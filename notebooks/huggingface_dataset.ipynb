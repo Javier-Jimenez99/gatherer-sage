{
 "cells": [
  {
   "cell_type": "code",
   "execution_count": 6,
   "metadata": {},
   "outputs": [
    {
     "data": {
      "text/plain": [
       "Dataset({\n",
       "    features: ['prompt', 'response'],\n",
       "    num_rows: 44960\n",
       "})"
      ]
     },
     "execution_count": 6,
     "metadata": {},
     "output_type": "execute_result"
    }
   ],
   "source": [
    "import datasets\n",
    "\n",
    "ds = datasets.load_dataset(\"nelsntk/mtg-data\")\n",
    "ds = datasets.concatenate_datasets([ds[key] for key in ds.keys()])\n",
    "ds"
   ]
  },
  {
   "cell_type": "code",
   "execution_count": 9,
   "metadata": {},
   "outputs": [],
   "source": [
    "hugg_df = ds.to_pandas().rename(columns={\"prompt\": \"question\", \"response\": \"answer\"})\n",
    "\n",
    "hugg_df.to_csv(\"../data/huggingface/huggingface_qa_dataset.csv\", index=False)"
   ]
  },
  {
   "cell_type": "code",
   "execution_count": 5,
   "metadata": {},
   "outputs": [
    {
     "name": "stdout",
     "output_type": "stream",
     "text": [
      "Huggingface dataset has 44960 rows\n",
      "Reddit dataset has 13348 rows\n",
      "Combined dataset has 58282 rows\n"
     ]
    },
    {
     "data": {
      "text/html": [
       "<div>\n",
       "<style scoped>\n",
       "    .dataframe tbody tr th:only-of-type {\n",
       "        vertical-align: middle;\n",
       "    }\n",
       "\n",
       "    .dataframe tbody tr th {\n",
       "        vertical-align: top;\n",
       "    }\n",
       "\n",
       "    .dataframe thead th {\n",
       "        text-align: right;\n",
       "    }\n",
       "</style>\n",
       "<table border=\"1\" class=\"dataframe\">\n",
       "  <thead>\n",
       "    <tr style=\"text-align: right;\">\n",
       "      <th></th>\n",
       "      <th>question</th>\n",
       "      <th>answer</th>\n",
       "    </tr>\n",
       "  </thead>\n",
       "  <tbody>\n",
       "    <tr>\n",
       "      <th>0</th>\n",
       "      <td>What happens if you sacrifice Wild Cantor whil...</td>\n",
       "      <td>While casting a spell with convoke, if you sac...</td>\n",
       "    </tr>\n",
       "    <tr>\n",
       "      <th>1</th>\n",
       "      <td>question about X spells + Djinn illuminates + ...</td>\n",
       "      <td>The answer does not address the question.</td>\n",
       "    </tr>\n",
       "    <tr>\n",
       "      <th>2</th>\n",
       "      <td>Soul Tithe and Evil Twin ruling\\n[deleted]</td>\n",
       "      <td>The Mana Cost of a permanent is part of the co...</td>\n",
       "    </tr>\n",
       "    <tr>\n",
       "      <th>3</th>\n",
       "      <td>Miirym and twinning staff interaction? Twinnin...</td>\n",
       "      <td>The answer confirms that there is no interacti...</td>\n",
       "    </tr>\n",
       "    <tr>\n",
       "      <th>4</th>\n",
       "      <td>What is the default multiplayer setup for a Co...</td>\n",
       "      <td>The default multiplayer setup is the Free-for-...</td>\n",
       "    </tr>\n",
       "    <tr>\n",
       "      <th>...</th>\n",
       "      <td>...</td>\n",
       "      <td>...</td>\n",
       "    </tr>\n",
       "    <tr>\n",
       "      <th>58277</th>\n",
       "      <td>Animar hydra ruling\\nHello!\\nIf I have [[Anima...</td>\n",
       "      <td>You declare a value of X before you calculate ...</td>\n",
       "    </tr>\n",
       "    <tr>\n",
       "      <th>58278</th>\n",
       "      <td>When exactly does a creature attack? When a Ca...</td>\n",
       "      <td>The answer has been parsed and formatted corre...</td>\n",
       "    </tr>\n",
       "    <tr>\n",
       "      <th>58279</th>\n",
       "      <td>What must be the case in order for the +1/+1 c...</td>\n",
       "      <td>The face-down permanent must be a creature bot...</td>\n",
       "    </tr>\n",
       "    <tr>\n",
       "      <th>58280</th>\n",
       "      <td>What is the timing for players to react to the...</td>\n",
       "      <td>As Wild Swing resolves, there is no time to re...</td>\n",
       "    </tr>\n",
       "    <tr>\n",
       "      <th>58281</th>\n",
       "      <td>Teferi Question\\nIf I use Teferi, Who slows th...</td>\n",
       "      <td>No.\\nThe Cost of the Ability is to add the one...</td>\n",
       "    </tr>\n",
       "  </tbody>\n",
       "</table>\n",
       "<p>58282 rows × 2 columns</p>\n",
       "</div>"
      ],
      "text/plain": [
       "                                                question                                             answer\n",
       "0      What happens if you sacrifice Wild Cantor whil...  While casting a spell with convoke, if you sac...\n",
       "1      question about X spells + Djinn illuminates + ...          The answer does not address the question.\n",
       "2             Soul Tithe and Evil Twin ruling\\n[deleted]  The Mana Cost of a permanent is part of the co...\n",
       "3      Miirym and twinning staff interaction? Twinnin...  The answer confirms that there is no interacti...\n",
       "4      What is the default multiplayer setup for a Co...  The default multiplayer setup is the Free-for-...\n",
       "...                                                  ...                                                ...\n",
       "58277  Animar hydra ruling\\nHello!\\nIf I have [[Anima...  You declare a value of X before you calculate ...\n",
       "58278  When exactly does a creature attack? When a Ca...  The answer has been parsed and formatted corre...\n",
       "58279  What must be the case in order for the +1/+1 c...  The face-down permanent must be a creature bot...\n",
       "58280  What is the timing for players to react to the...  As Wild Swing resolves, there is no time to re...\n",
       "58281  Teferi Question\\nIf I use Teferi, Who slows th...  No.\\nThe Cost of the Ability is to add the one...\n",
       "\n",
       "[58282 rows x 2 columns]"
      ]
     },
     "metadata": {},
     "output_type": "display_data"
    }
   ],
   "source": [
    "import pandas as pd\n",
    "from gatherer_sage.utils import clean_text\n",
    "\n",
    "df1 = pd.read_csv(\"../data/huggingface/huggingface_qa_dataset.csv\")\n",
    "df2 = pd.read_csv(\"../data/reddit/reddit_qa_dataset.csv\")\n",
    "\n",
    "print(\"Huggingface dataset has\", len(df1), \"rows\")\n",
    "print(\"Reddit dataset has\", len(df2), \"rows\")\n",
    "\n",
    "df = pd.concat([df1, df2], ignore_index=True)[[\"question\", \"answer\"]]\n",
    "df = df.dropna().map(clean_text).drop_duplicates().reset_index(drop=True)\n",
    "df = df.sample(frac=1).reset_index(drop=True)\n",
    "\n",
    "print(\"Combined dataset has\", len(df), \"rows\")\n",
    "\n",
    "display(df)\n",
    "\n",
    "df.to_csv(\"../data/pretrain_qa_dataset.csv\", index=False)"
   ]
  }
 ],
 "metadata": {
  "kernelspec": {
   "display_name": "gatherer-sage",
   "language": "python",
   "name": "python3"
  },
  "language_info": {
   "codemirror_mode": {
    "name": "ipython",
    "version": 3
   },
   "file_extension": ".py",
   "mimetype": "text/x-python",
   "name": "python",
   "nbconvert_exporter": "python",
   "pygments_lexer": "ipython3",
   "version": "3.10.14"
  }
 },
 "nbformat": 4,
 "nbformat_minor": 2
}
