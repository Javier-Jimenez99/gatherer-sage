{
 "cells": [
  {
   "cell_type": "code",
   "execution_count": 1,
   "metadata": {},
   "outputs": [
    {
     "name": "stdout",
     "output_type": "stream",
     "text": [
      "Downloaded 1457 questions / ID 7357\n",
      "ERROR:\n",
      "{'status': 429, 'error': \"Please don't send more than one request every 2 seconds.\"}\n"
     ]
    }
   ],
   "source": [
    "import os\n",
    "import requests\n",
    "import json\n",
    "import pandas as pd\n",
    "import time\n",
    "\n",
    "\n",
    "def get_questions(previous_id, count=100):\n",
    "    base_url = \"https://rulesguru.net/api/questions/\"\n",
    "    parameters = {\n",
    "        \"count\": count,\n",
    "        \"level\": [\"0\", \"1\", \"2\", \"3\", \"Corner Case\"],\n",
    "        \"complexity\": [\"Simple\", \"Intermediate\", \"Complicated\"],\n",
    "        \"legality\": \"All of Magic\",\n",
    "        \"tags\": [],\n",
    "        \"previousId\": int(previous_id),\n",
    "    }\n",
    "\n",
    "    response = requests.get(base_url, params={\"json\": json.dumps(parameters)})\n",
    "    response.raise_for_status()\n",
    "    return response.json()\n",
    "\n",
    "\n",
    "if os.path.exists(\"data/rules_guru/rules_guru_qa_dataset.csv\"):\n",
    "    df = pd.read_csv(\"data/rules_guru/rules_guru_qa_dataset.csv\")\n",
    "    previous_id = df[\"id\"].max()\n",
    "else:\n",
    "    df = pd.DataFrame()\n",
    "    previous_id = 1\n",
    "\n",
    "count = 100\n",
    "while True:\n",
    "    time.sleep(3)\n",
    "    questions = get_questions(previous_id, count=count)\n",
    "    if questions[\"status\"] != 200:\n",
    "        if (\n",
    "            questions[\"status\"] == 400\n",
    "            and questions[\"error\"] == \"Incorrectly formatted json.\"\n",
    "        ):\n",
    "            count = count // 2\n",
    "            print(f\"Reducing count ({count})...\")\n",
    "\n",
    "            if count < 10:\n",
    "                previous_id += 1\n",
    "                count = 100\n",
    "\n",
    "            continue\n",
    "\n",
    "        print(\"ERROR:\")\n",
    "        print(questions)\n",
    "        break\n",
    "    else:\n",
    "        if count < 100:\n",
    "            print(f\"Restoring count to 100...\")\n",
    "            count = 100\n",
    "\n",
    "    if len(df) == 0:\n",
    "        df = pd.DataFrame(questions[\"questions\"])\n",
    "    else:\n",
    "        df = pd.concat([df, pd.DataFrame(questions[\"questions\"])])\n",
    "        df = df.drop_duplicates(subset=\"id\", keep=\"first\")\n",
    "\n",
    "    previous_id = df[\"id\"].max()\n",
    "\n",
    "    df.to_csv(\"data/rules_guru/rules_guru_qa_dataset.csv\", index=False)\n",
    "\n",
    "    print(f\"Downloaded {len(df)} questions / ID {previous_id}\")"
   ]
  },
  {
   "cell_type": "code",
   "execution_count": 2,
   "metadata": {},
   "outputs": [],
   "source": [
    "import pandas as pd\n",
    "from gatherer_sage.utils import clean_text\n",
    "\n",
    "df = pd.read_csv(\"data/reddit/reddit_qa_dataset_with_context.csv\").dropna()"
   ]
  },
  {
   "cell_type": "code",
   "execution_count": 3,
   "metadata": {},
   "outputs": [
    {
     "name": "stdout",
     "output_type": "stream",
     "text": [
      "question 0\n",
      "answer 0\n",
      "context 0\n"
     ]
    }
   ],
   "source": [
    "for c in [\"question\", \"answer\", \"context\"]:\n",
    "    print(c, df[c].apply(clean_text).str.contains(\"&gt;\").sum())"
   ]
  }
 ],
 "metadata": {
  "kernelspec": {
   "display_name": "gatherer-sage",
   "language": "python",
   "name": "python3"
  },
  "language_info": {
   "codemirror_mode": {
    "name": "ipython",
    "version": 3
   },
   "file_extension": ".py",
   "mimetype": "text/x-python",
   "name": "python",
   "nbconvert_exporter": "python",
   "pygments_lexer": "ipython3",
   "version": "3.9.19"
  }
 },
 "nbformat": 4,
 "nbformat_minor": 2
}
