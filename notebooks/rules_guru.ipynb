{
 "cells": [
  {
   "cell_type": "code",
   "execution_count": 1,
   "metadata": {},
   "outputs": [
    {
     "name": "stdout",
     "output_type": "stream",
     "text": [
      "Downloaded 1457 questions / ID 7357\n",
      "ERROR:\n",
      "{'status': 429, 'error': \"Please don't send more than one request every 2 seconds.\"}\n"
     ]
    }
   ],
   "source": [
    "import os\n",
    "import requests\n",
    "import json\n",
    "import pandas as pd\n",
    "import time\n",
    "\n",
    "\n",
    "def get_questions(previous_id, count=100):\n",
    "    base_url = \"https://rulesguru.net/api/questions/\"\n",
    "    parameters = {\n",
    "        \"count\": count,\n",
    "        \"level\": [\"0\", \"1\", \"2\", \"3\", \"Corner Case\"],\n",
    "        \"complexity\": [\"Simple\", \"Intermediate\", \"Complicated\"],\n",
    "        \"legality\": \"All of Magic\",\n",
    "        \"tags\": [],\n",
    "        \"previousId\": int(previous_id),\n",
    "    }\n",
    "\n",
    "    response = requests.get(base_url, params={\"json\": json.dumps(parameters)})\n",
    "    response.raise_for_status()\n",
    "    return response.json()\n",
    "\n",
    "\n",
    "if os.path.exists(\"data/rules_guru/rules_guru_qa_dataset.csv\"):\n",
    "    df = pd.read_csv(\"data/rules_guru/rules_guru_qa_dataset.csv\")\n",
    "    previous_id = df[\"id\"].max()\n",
    "else:\n",
    "    df = pd.DataFrame()\n",
    "    previous_id = 1\n",
    "\n",
    "count = 100\n",
    "while True:\n",
    "    time.sleep(3)\n",
    "    questions = get_questions(previous_id, count=count)\n",
    "    if questions[\"status\"] != 200:\n",
    "        if (\n",
    "            questions[\"status\"] == 400\n",
    "            and questions[\"error\"] == \"Incorrectly formatted json.\"\n",
    "        ):\n",
    "            count = count // 2\n",
    "            print(f\"Reducing count ({count})...\")\n",
    "\n",
    "            if count < 10:\n",
    "                previous_id += 1\n",
    "                count = 100\n",
    "\n",
    "            continue\n",
    "\n",
    "        print(\"ERROR:\")\n",
    "        print(questions)\n",
    "        break\n",
    "    else:\n",
    "        if count < 100:\n",
    "            print(f\"Restoring count to 100...\")\n",
    "            count = 100\n",
    "\n",
    "    if len(df) == 0:\n",
    "        df = pd.DataFrame(questions[\"questions\"])\n",
    "    else:\n",
    "        df = pd.concat([df, pd.DataFrame(questions[\"questions\"])])\n",
    "        df = df.drop_duplicates(subset=\"id\", keep=\"first\")\n",
    "\n",
    "    previous_id = df[\"id\"].max()\n",
    "\n",
    "    df.to_csv(\"data/rules_guru/rules_guru_qa_dataset.csv\", index=False)\n",
    "\n",
    "    print(f\"Downloaded {len(df)} questions / ID {previous_id}\")"
   ]
  },
  {
   "cell_type": "code",
   "execution_count": 50,
   "metadata": {},
   "outputs": [
    {
     "name": "stdout",
     "output_type": "stream",
     "text": [
      "question 0\n",
      "answer 0\n",
      "context 0\n"
     ]
    }
   ],
   "source": [
    "import pandas as pd\n",
    "from html import unescape\n",
    "import re\n",
    "\n",
    "\n",
    "def clean_text(text):\n",
    "    # Decodificar entidades HTML\n",
    "    text = unescape(text)\n",
    "\n",
    "    # Proteger nombres de cartas en doble corchetes\n",
    "    card_names = re.findall(r\"\\[\\[.*?\\]\\]\", text)\n",
    "    card_dict = {f\"<<{i}>>\": card_names[i] for i in range(len(card_names))}\n",
    "    for key, value in card_dict.items():\n",
    "        text = text.replace(value, key)\n",
    "\n",
    "    # Eliminar URLs de Markdown\n",
    "    text = re.sub(r\"\\[.*?\\]\\(.*?\\)\", \"\", text)\n",
    "\n",
    "    # Eliminar URLs independientes\n",
    "    text = re.sub(r\"http[s]?://\\S+\", \"\", text)\n",
    "\n",
    "    # Eliminar sintaxis de Markdown (negrita, cursiva)\n",
    "    text = re.sub(r\"\\*{1,2}|_{1,2}\", \"\", text)\n",
    "\n",
    "    # Eliminar líneas de separadores de Markdown\n",
    "    text = re.sub(r\"^---\\s*$\", \"\", text, flags=re.MULTILINE)\n",
    "\n",
    "    # Restaurar nombres de cartas\n",
    "    for key, value in card_dict.items():\n",
    "        text = text.replace(key, value)\n",
    "\n",
    "    # Reemplazar tabulaciones y otros espacios por un solo espacio\n",
    "    text = re.sub(r\"[ \\t]+\", \" \", text)\n",
    "\n",
    "    # Eliminar múltiples saltos de línea dejando solo uno\n",
    "    text = re.sub(r\"\\n+\", \"\\n\", text)\n",
    "\n",
    "    # Eliminar espacios antes y después de saltos de línea\n",
    "    text = re.sub(r\" *\\n *\", \"\\n\", text)\n",
    "\n",
    "    # Eliminar múltiples espacios dejando solo uno\n",
    "    text = re.sub(r\" +\", \" \", text)\n",
    "\n",
    "    text = re.sub(r\"^\\>\", \"\", text, flags=re.MULTILINE)\n",
    "\n",
    "    return text\n",
    "\n",
    "\n",
    "df = pd.read_csv(\"../data/reddit/reddit_qa_dataset_with_context.csv\").dropna()\n",
    "df[\"html\"] = df[\"question\"].apply(clean_text)\n",
    "\n",
    "for c in [\"question\", \"answer\", \"context\"]:\n",
    "    print(c, df[c].apply(clean_text).str.contains(\"&gt\").sum())"
   ]
  },
  {
   "cell_type": "code",
   "execution_count": 54,
   "metadata": {},
   "outputs": [
    {
     "name": "stdout",
     "output_type": "stream",
     "text": [
      "Najeela the Blade Blossom grants haste to creatures already attacking.\n",
      "Hello, I was confused by looking at the card [[Najeela, the Blade-Blossom]] its activated ability says.\n",
      "\n",
      "&gt;Untap all attacking creatures. They gain trample, lifelink, and haste until end of turn. After this phase, there is an additional combat phase. Activate this ability only during combat.\n",
      "\n",
      "Could someone explain to a relatively new player what that would amount to functionally? If they are already attacking, then what is the point of giving them haste?\n",
      "Najeela the Blade Blossom grants haste to creatures already attacking.\n",
      "Hello, I was confused by looking at the card [[Najeela, the Blade-Blossom]] its activated ability says.\n",
      "Untap all attacking creatures. They gain trample, lifelink, and haste until end of turn. After this phase, there is an additional combat phase. Activate this ability only during combat.\n",
      "Could someone explain to a relatively new player what that would amount to functionally? If they are already attacking, then what is the point of giving them haste?\n"
     ]
    }
   ],
   "source": [
    "aux = df[df[\"question\"].str.contains(\"&gt\")].iloc[9]\n",
    "print(aux[\"question\"])\n",
    "print(aux[\"html\"])"
   ]
  },
  {
   "cell_type": "code",
   "execution_count": 19,
   "metadata": {},
   "outputs": [
    {
     "data": {
      "text/plain": [
       "question    2+ Academy Manufactors + Doubling Effects\\nThe...\n",
       "answer      &gt; Am I understanding the layering of the tr...\n",
       "score                                                       5\n",
       "context     \\nExtracted documents:\\nDocument 0:::\\nName: A...\n",
       "Name: 5274, dtype: object"
      ]
     },
     "execution_count": 19,
     "metadata": {},
     "output_type": "execute_result"
    }
   ],
   "source": [
    "df[df[\"question\"].str.contains(\"---\")].iloc[9]"
   ]
  },
  {
   "cell_type": "code",
   "execution_count": null,
   "metadata": {},
   "outputs": [],
   "source": [
    "5274"
   ]
  }
 ],
 "metadata": {
  "kernelspec": {
   "display_name": "gatherer-sage",
   "language": "python",
   "name": "python3"
  },
  "language_info": {
   "codemirror_mode": {
    "name": "ipython",
    "version": 3
   },
   "file_extension": ".py",
   "mimetype": "text/x-python",
   "name": "python",
   "nbconvert_exporter": "python",
   "pygments_lexer": "ipython3",
   "version": "3.10.14"
  }
 },
 "nbformat": 4,
 "nbformat_minor": 2
}
