{
 "cells": [
  {
   "cell_type": "code",
   "execution_count": 1,
   "metadata": {},
   "outputs": [
    {
     "name": "stderr",
     "output_type": "stream",
     "text": [
      "/home/javierj/miniconda3/envs/gatherer-sage/lib/python3.10/site-packages/tqdm/auto.py:21: TqdmWarning: IProgress not found. Please update jupyter and ipywidgets. See https://ipywidgets.readthedocs.io/en/stable/user_install.html\n",
      "  from .autonotebook import tqdm as notebook_tqdm\n",
      "2024-06-13 14:26:53,634\tINFO util.py:154 -- Missing packages: ['ipywidgets']. Run `pip install -U ipywidgets`, then restart the notebook server for rich notebook output.\n",
      "/home/javierj/miniconda3/envs/gatherer-sage/lib/python3.10/site-packages/huggingface_hub/file_download.py:1132: FutureWarning: `resume_download` is deprecated and will be removed in version 1.0.0. Downloads always resume when possible. If you want to force a new download, use `force_download=True`.\n",
      "  warnings.warn(\n"
     ]
    },
    {
     "name": "stdout",
     "output_type": "stream",
     "text": [
      "INFO 06-13 14:26:54 llm_engine.py:161] Initializing an LLM engine (v0.5.0) with config: model='prometheus-eval/prometheus-7b-v2.0', speculative_config=None, tokenizer='prometheus-eval/prometheus-7b-v2.0', skip_tokenizer_init=False, tokenizer_mode=auto, revision=None, rope_scaling=None, rope_theta=None, tokenizer_revision=None, trust_remote_code=False, dtype=torch.bfloat16, max_seq_len=32768, download_dir=None, load_format=LoadFormat.AUTO, tensor_parallel_size=1, disable_custom_all_reduce=False, quantization=None, enforce_eager=False, kv_cache_dtype=auto, quantization_param_path=None, device_config=cuda, decoding_config=DecodingConfig(guided_decoding_backend='outlines'), seed=0, served_model_name=prometheus-eval/prometheus-7b-v2.0)\n",
      "INFO 06-13 14:26:54 weight_utils.py:218] Using model weights format ['*.safetensors']\n",
      "INFO 06-13 14:26:56 model_runner.py:159] Loading model weights took 13.4966 GB\n",
      "INFO 06-13 14:27:00 gpu_executor.py:83] # GPU blocks: 12830, # CPU blocks: 2048\n",
      "INFO 06-13 14:27:01 model_runner.py:878] Capturing the model for CUDA graphs. This may lead to unexpected consequences if the model is not static. To run the model in eager mode, set 'enforce_eager=True' or use '--enforce-eager' in the CLI.\n",
      "INFO 06-13 14:27:01 model_runner.py:882] CUDA graphs can take additional 1~3 GiB memory per GPU. If you are running out of memory, consider decreasing `gpu_memory_utilization` or enforcing eager mode. You can also reduce the `max_num_seqs` as needed to decrease memory usage.\n",
      "INFO 06-13 14:27:06 model_runner.py:954] Graph capturing finished in 5 secs.\n"
     ]
    },
    {
     "name": "stderr",
     "output_type": "stream",
     "text": [
      "/home/javierj/miniconda3/envs/gatherer-sage/lib/python3.10/site-packages/prometheus_eval/judge.py:50: UserWarning: Reference answer was not given in Relative Grading mode. This might lead to non-optimal performances.\n",
      "  warnings.warn(\n",
      "Processed prompts: 100%|██████████| 1/1 [00:05<00:00,  5.29s/it, Generation Speed: 43.08 toks/s]\n"
     ]
    },
    {
     "name": "stdout",
     "output_type": "stream",
     "text": [
      "Processed 1/1 instances.\n"
     ]
    },
    {
     "name": "stderr",
     "output_type": "stream",
     "text": [
      "Finalizing: 100%|██████████| 1/1 [00:00<00:00, 51781.53it/s]\n",
      "Processed prompts: 100%|██████████| 1/1 [00:07<00:00,  7.22s/it, Generation Speed: 43.38 toks/s]\n"
     ]
    },
    {
     "name": "stdout",
     "output_type": "stream",
     "text": [
      "Processed 1/1 instances.\n"
     ]
    },
    {
     "name": "stderr",
     "output_type": "stream",
     "text": [
      "Finalizing: 100%|██████████| 1/1 [00:00<00:00, 59074.70it/s]\n",
      "Processed prompts: 100%|██████████| 1/1 [00:04<00:00,  4.70s/it, Generation Speed: 43.16 toks/s]\n"
     ]
    },
    {
     "name": "stdout",
     "output_type": "stream",
     "text": [
      "Processed 1/1 instances.\n"
     ]
    },
    {
     "name": "stderr",
     "output_type": "stream",
     "text": [
      "Finalizing: 100%|██████████| 1/1 [00:00<00:00, 59918.63it/s]\n",
      "Processed prompts: 100%|██████████| 1/1 [00:03<00:00,  3.64s/it, Generation Speed: 43.13 toks/s]\n"
     ]
    },
    {
     "name": "stdout",
     "output_type": "stream",
     "text": [
      "Processed 1/1 instances.\n"
     ]
    },
    {
     "name": "stderr",
     "output_type": "stream",
     "text": [
      "Finalizing: 100%|██████████| 1/1 [00:00<00:00, 22919.69it/s]\n",
      "Processed prompts: 100%|██████████| 1/1 [00:03<00:00,  3.55s/it, Generation Speed: 43.07 toks/s]\n"
     ]
    },
    {
     "name": "stdout",
     "output_type": "stream",
     "text": [
      "Processed 1/1 instances.\n"
     ]
    },
    {
     "name": "stderr",
     "output_type": "stream",
     "text": [
      "Finalizing: 100%|██████████| 1/1 [00:00<00:00, 59918.63it/s]\n",
      "Processed prompts: 100%|██████████| 1/1 [00:04<00:00,  4.32s/it, Generation Speed: 43.03 toks/s]\n"
     ]
    },
    {
     "name": "stdout",
     "output_type": "stream",
     "text": [
      "Processed 1/1 instances.\n"
     ]
    },
    {
     "name": "stderr",
     "output_type": "stream",
     "text": [
      "Finalizing: 100%|██████████| 1/1 [00:00<00:00, 59918.63it/s]\n",
      "Processed prompts: 100%|██████████| 1/1 [00:05<00:00,  5.10s/it, Generation Speed: 43.17 toks/s]\n"
     ]
    },
    {
     "name": "stdout",
     "output_type": "stream",
     "text": [
      "Processed 1/1 instances.\n"
     ]
    },
    {
     "name": "stderr",
     "output_type": "stream",
     "text": [
      "Finalizing: 100%|██████████| 1/1 [00:00<00:00, 38836.15it/s]\n",
      "Processed prompts: 100%|██████████| 1/1 [00:04<00:00,  4.19s/it, Generation Speed: 43.19 toks/s]\n"
     ]
    },
    {
     "name": "stdout",
     "output_type": "stream",
     "text": [
      "Processed 1/1 instances.\n"
     ]
    },
    {
     "name": "stderr",
     "output_type": "stream",
     "text": [
      "Finalizing: 100%|██████████| 1/1 [00:00<00:00, 53092.46it/s]\n",
      "Processed prompts: 100%|██████████| 1/1 [00:04<00:00,  4.32s/it, Generation Speed: 43.07 toks/s]\n"
     ]
    },
    {
     "name": "stdout",
     "output_type": "stream",
     "text": [
      "Processed 1/1 instances.\n"
     ]
    },
    {
     "name": "stderr",
     "output_type": "stream",
     "text": [
      "Finalizing: 100%|██████████| 1/1 [00:00<00:00, 52428.80it/s]\n",
      "Processed prompts: 100%|██████████| 1/1 [00:05<00:00,  5.38s/it, Generation Speed: 43.29 toks/s]\n"
     ]
    },
    {
     "name": "stdout",
     "output_type": "stream",
     "text": [
      "Processed 1/1 instances.\n"
     ]
    },
    {
     "name": "stderr",
     "output_type": "stream",
     "text": [
      "Finalizing: 100%|██████████| 1/1 [00:00<00:00, 57456.22it/s]\n",
      "Processed prompts: 100%|██████████| 1/1 [00:03<00:00,  3.13s/it, Generation Speed: 42.80 toks/s]\n"
     ]
    },
    {
     "name": "stdout",
     "output_type": "stream",
     "text": [
      "Processed 1/1 instances.\n"
     ]
    },
    {
     "name": "stderr",
     "output_type": "stream",
     "text": [
      "Finalizing: 100%|██████████| 1/1 [00:00<00:00, 62601.55it/s]\n",
      "Processed prompts: 100%|██████████| 1/1 [00:03<00:00,  3.41s/it, Generation Speed: 42.89 toks/s]\n"
     ]
    },
    {
     "name": "stdout",
     "output_type": "stream",
     "text": [
      "Processed 1/1 instances.\n"
     ]
    },
    {
     "name": "stderr",
     "output_type": "stream",
     "text": [
      "Finalizing: 100%|██████████| 1/1 [00:00<00:00, 62601.55it/s]\n",
      "Processed prompts: 100%|██████████| 1/1 [00:03<00:00,  3.94s/it, Generation Speed: 43.13 toks/s]\n"
     ]
    },
    {
     "name": "stdout",
     "output_type": "stream",
     "text": [
      "Processed 1/1 instances.\n"
     ]
    },
    {
     "name": "stderr",
     "output_type": "stream",
     "text": [
      "Finalizing: 100%|██████████| 1/1 [00:00<00:00, 37117.73it/s]\n",
      "Processed prompts: 100%|██████████| 1/1 [00:03<00:00,  3.58s/it, Generation Speed: 43.04 toks/s]\n"
     ]
    },
    {
     "name": "stdout",
     "output_type": "stream",
     "text": [
      "Processed 1/1 instances.\n"
     ]
    },
    {
     "name": "stderr",
     "output_type": "stream",
     "text": [
      "Finalizing: 100%|██████████| 1/1 [00:00<00:00, 34952.53it/s]\n",
      "Processed prompts: 100%|██████████| 1/1 [00:04<00:00,  4.06s/it, Generation Speed: 43.15 toks/s]\n"
     ]
    },
    {
     "name": "stdout",
     "output_type": "stream",
     "text": [
      "Processed 1/1 instances.\n"
     ]
    },
    {
     "name": "stderr",
     "output_type": "stream",
     "text": [
      "Finalizing: 100%|██████████| 1/1 [00:00<00:00, 43690.67it/s]\n",
      "Processed prompts: 100%|██████████| 1/1 [00:04<00:00,  4.14s/it, Generation Speed: 43.00 toks/s]\n"
     ]
    },
    {
     "name": "stdout",
     "output_type": "stream",
     "text": [
      "Processed 1/1 instances.\n"
     ]
    },
    {
     "name": "stderr",
     "output_type": "stream",
     "text": [
      "Finalizing: 100%|██████████| 1/1 [00:00<00:00, 23967.45it/s]\n",
      "Processed prompts: 100%|██████████| 1/1 [00:03<00:00,  3.85s/it, Generation Speed: 43.10 toks/s]\n"
     ]
    },
    {
     "name": "stdout",
     "output_type": "stream",
     "text": [
      "Processed 1/1 instances.\n"
     ]
    },
    {
     "name": "stderr",
     "output_type": "stream",
     "text": [
      "Finalizing: 100%|██████████| 1/1 [00:00<00:00, 46091.25it/s]\n",
      "Processed prompts: 100%|██████████| 1/1 [00:04<00:00,  4.83s/it, Generation Speed: 43.08 toks/s]\n"
     ]
    },
    {
     "name": "stdout",
     "output_type": "stream",
     "text": [
      "Processed 1/1 instances.\n"
     ]
    },
    {
     "name": "stderr",
     "output_type": "stream",
     "text": [
      "Finalizing: 100%|██████████| 1/1 [00:00<00:00, 62601.55it/s]\n",
      "Processed prompts: 100%|██████████| 1/1 [00:05<00:00,  5.78s/it, Generation Speed: 43.25 toks/s]\n"
     ]
    },
    {
     "name": "stdout",
     "output_type": "stream",
     "text": [
      "Processed 1/1 instances.\n"
     ]
    },
    {
     "name": "stderr",
     "output_type": "stream",
     "text": [
      "Finalizing: 100%|██████████| 1/1 [00:00<00:00, 54471.48it/s]\n",
      "Processed prompts: 100%|██████████| 1/1 [00:04<00:00,  4.28s/it, Generation Speed: 42.95 toks/s]\n"
     ]
    },
    {
     "name": "stdout",
     "output_type": "stream",
     "text": [
      "Processed 1/1 instances.\n"
     ]
    },
    {
     "name": "stderr",
     "output_type": "stream",
     "text": [
      "Finalizing: 100%|██████████| 1/1 [00:00<00:00, 59918.63it/s]\n",
      "Processed prompts: 100%|██████████| 1/1 [00:03<00:00,  3.06s/it, Generation Speed: 42.87 toks/s]\n"
     ]
    },
    {
     "name": "stdout",
     "output_type": "stream",
     "text": [
      "Processed 1/1 instances.\n"
     ]
    },
    {
     "name": "stderr",
     "output_type": "stream",
     "text": [
      "Finalizing: 100%|██████████| 1/1 [00:00<00:00, 46603.38it/s]\n",
      "Processed prompts: 100%|██████████| 1/1 [00:04<00:00,  4.56s/it, Generation Speed: 42.97 toks/s]\n"
     ]
    },
    {
     "name": "stdout",
     "output_type": "stream",
     "text": [
      "Processed 1/1 instances.\n"
     ]
    },
    {
     "name": "stderr",
     "output_type": "stream",
     "text": [
      "Finalizing: 100%|██████████| 1/1 [00:00<00:00, 57456.22it/s]\n",
      "Processed prompts: 100%|██████████| 1/1 [00:07<00:00,  7.08s/it, Generation Speed: 43.09 toks/s]\n"
     ]
    },
    {
     "name": "stdout",
     "output_type": "stream",
     "text": [
      "Processed 1/1 instances.\n"
     ]
    },
    {
     "name": "stderr",
     "output_type": "stream",
     "text": [
      "Finalizing: 100%|██████████| 1/1 [00:00<00:00, 45100.04it/s]\n",
      "Processed prompts: 100%|██████████| 1/1 [00:03<00:00,  3.41s/it, Generation Speed: 42.78 toks/s]\n"
     ]
    },
    {
     "name": "stdout",
     "output_type": "stream",
     "text": [
      "Processed 1/1 instances.\n"
     ]
    },
    {
     "name": "stderr",
     "output_type": "stream",
     "text": [
      "Finalizing: 100%|██████████| 1/1 [00:00<00:00, 43240.25it/s]\n",
      "Processed prompts: 100%|██████████| 1/1 [00:03<00:00,  3.91s/it, Generation Speed: 43.02 toks/s]\n"
     ]
    },
    {
     "name": "stdout",
     "output_type": "stream",
     "text": [
      "Processed 1/1 instances.\n"
     ]
    },
    {
     "name": "stderr",
     "output_type": "stream",
     "text": [
      "Finalizing: 100%|██████████| 1/1 [00:00<00:00, 48210.39it/s]\n",
      "Processed prompts: 100%|██████████| 1/1 [00:04<00:00,  4.72s/it, Generation Speed: 42.98 toks/s]\n"
     ]
    },
    {
     "name": "stdout",
     "output_type": "stream",
     "text": [
      "Processed 1/1 instances.\n"
     ]
    },
    {
     "name": "stderr",
     "output_type": "stream",
     "text": [
      "Finalizing: 100%|██████████| 1/1 [00:00<00:00, 47662.55it/s]\n",
      "Processed prompts: 100%|██████████| 1/1 [00:03<00:00,  3.82s/it, Generation Speed: 42.99 toks/s]\n"
     ]
    },
    {
     "name": "stdout",
     "output_type": "stream",
     "text": [
      "Processed 1/1 instances.\n"
     ]
    },
    {
     "name": "stderr",
     "output_type": "stream",
     "text": [
      "Finalizing: 100%|██████████| 1/1 [00:00<00:00, 47662.55it/s]\n",
      "Processed prompts: 100%|██████████| 1/1 [00:07<00:00,  7.79s/it, Generation Speed: 43.28 toks/s]\n"
     ]
    },
    {
     "name": "stdout",
     "output_type": "stream",
     "text": [
      "Processed 1/1 instances.\n"
     ]
    },
    {
     "name": "stderr",
     "output_type": "stream",
     "text": [
      "Finalizing: 100%|██████████| 1/1 [00:00<00:00, 33554.43it/s]\n",
      "Processed prompts: 100%|██████████| 1/1 [00:03<00:00,  3.72s/it, Generation Speed: 42.99 toks/s]\n"
     ]
    },
    {
     "name": "stdout",
     "output_type": "stream",
     "text": [
      "Processed 1/1 instances.\n"
     ]
    },
    {
     "name": "stderr",
     "output_type": "stream",
     "text": [
      "Finalizing: 100%|██████████| 1/1 [00:00<00:00, 60787.01it/s]\n",
      "Processed prompts: 100%|██████████| 1/1 [00:04<00:00,  4.52s/it, Generation Speed: 42.94 toks/s]\n"
     ]
    },
    {
     "name": "stdout",
     "output_type": "stream",
     "text": [
      "Processed 1/1 instances.\n"
     ]
    },
    {
     "name": "stderr",
     "output_type": "stream",
     "text": [
      "Finalizing: 100%|██████████| 1/1 [00:00<00:00, 42366.71it/s]\n",
      "Processed prompts: 100%|██████████| 1/1 [00:03<00:00,  3.59s/it, Generation Speed: 42.94 toks/s]\n"
     ]
    },
    {
     "name": "stdout",
     "output_type": "stream",
     "text": [
      "Processed 1/1 instances.\n"
     ]
    },
    {
     "name": "stderr",
     "output_type": "stream",
     "text": [
      "Finalizing: 100%|██████████| 1/1 [00:00<00:00, 33825.03it/s]\n",
      "Processed prompts: 100%|██████████| 1/1 [00:03<00:00,  3.35s/it, Generation Speed: 42.68 toks/s]\n"
     ]
    },
    {
     "name": "stdout",
     "output_type": "stream",
     "text": [
      "Processed 1/1 instances.\n"
     ]
    },
    {
     "name": "stderr",
     "output_type": "stream",
     "text": [
      "Finalizing: 100%|██████████| 1/1 [00:00<00:00, 60787.01it/s]\n",
      "Processed prompts: 100%|██████████| 1/1 [00:04<00:00,  4.54s/it, Generation Speed: 42.76 toks/s]\n"
     ]
    },
    {
     "name": "stdout",
     "output_type": "stream",
     "text": [
      "Processed 1/1 instances.\n"
     ]
    },
    {
     "name": "stderr",
     "output_type": "stream",
     "text": [
      "Finalizing: 100%|██████████| 1/1 [00:00<00:00, 35246.25it/s]\n",
      "Processed prompts: 100%|██████████| 1/1 [00:04<00:00,  4.10s/it, Generation Speed: 42.90 toks/s]\n"
     ]
    },
    {
     "name": "stdout",
     "output_type": "stream",
     "text": [
      "Processed 1/1 instances.\n"
     ]
    },
    {
     "name": "stderr",
     "output_type": "stream",
     "text": [
      "Finalizing: 100%|██████████| 1/1 [00:00<00:00, 49932.19it/s]\n",
      "Processed prompts: 100%|██████████| 1/1 [00:03<00:00,  3.32s/it, Generation Speed: 42.73 toks/s]\n"
     ]
    },
    {
     "name": "stdout",
     "output_type": "stream",
     "text": [
      "Processed 1/1 instances.\n"
     ]
    },
    {
     "name": "stderr",
     "output_type": "stream",
     "text": [
      "Finalizing: 100%|██████████| 1/1 [00:00<00:00, 55924.05it/s]\n",
      "Processed prompts: 100%|██████████| 1/1 [00:04<00:00,  4.01s/it, Generation Speed: 42.89 toks/s]\n"
     ]
    },
    {
     "name": "stdout",
     "output_type": "stream",
     "text": [
      "Processed 1/1 instances.\n"
     ]
    },
    {
     "name": "stderr",
     "output_type": "stream",
     "text": [
      "Finalizing: 100%|██████████| 1/1 [00:00<00:00, 27594.11it/s]\n",
      "Processed prompts: 100%|██████████| 1/1 [00:04<00:00,  4.73s/it, Generation Speed: 42.91 toks/s]\n"
     ]
    },
    {
     "name": "stdout",
     "output_type": "stream",
     "text": [
      "Processed 1/1 instances.\n"
     ]
    },
    {
     "name": "stderr",
     "output_type": "stream",
     "text": [
      "Finalizing: 100%|██████████| 1/1 [00:00<00:00, 59918.63it/s]\n",
      "Processed prompts: 100%|██████████| 1/1 [00:05<00:00,  5.87s/it, Generation Speed: 43.08 toks/s]\n"
     ]
    },
    {
     "name": "stdout",
     "output_type": "stream",
     "text": [
      "Processed 1/1 instances.\n"
     ]
    },
    {
     "name": "stderr",
     "output_type": "stream",
     "text": [
      "Finalizing: 100%|██████████| 1/1 [00:00<00:00, 41120.63it/s]\n",
      "Processed prompts: 100%|██████████| 1/1 [00:03<00:00,  3.01s/it, Generation Speed: 42.81 toks/s]\n"
     ]
    },
    {
     "name": "stdout",
     "output_type": "stream",
     "text": [
      "Processed 1/1 instances.\n"
     ]
    },
    {
     "name": "stderr",
     "output_type": "stream",
     "text": [
      "Finalizing: 100%|██████████| 1/1 [00:00<00:00, 62601.55it/s]\n",
      "Processed prompts: 100%|██████████| 1/1 [00:05<00:00,  5.28s/it, Generation Speed: 43.02 toks/s]\n"
     ]
    },
    {
     "name": "stdout",
     "output_type": "stream",
     "text": [
      "Processed 1/1 instances.\n"
     ]
    },
    {
     "name": "stderr",
     "output_type": "stream",
     "text": [
      "Finalizing: 100%|██████████| 1/1 [00:00<00:00, 55188.21it/s]\n",
      "Processed prompts: 100%|██████████| 1/1 [00:04<00:00,  4.63s/it, Generation Speed: 42.95 toks/s]\n"
     ]
    },
    {
     "name": "stdout",
     "output_type": "stream",
     "text": [
      "Processed 1/1 instances.\n"
     ]
    },
    {
     "name": "stderr",
     "output_type": "stream",
     "text": [
      "Finalizing: 100%|██████████| 1/1 [00:00<00:00, 48770.98it/s]\n",
      "Processed prompts: 100%|██████████| 1/1 [00:04<00:00,  4.33s/it, Generation Speed: 43.00 toks/s]\n"
     ]
    },
    {
     "name": "stdout",
     "output_type": "stream",
     "text": [
      "Processed 1/1 instances.\n"
     ]
    },
    {
     "name": "stderr",
     "output_type": "stream",
     "text": [
      "Finalizing: 100%|██████████| 1/1 [00:00<00:00, 61680.94it/s]\n",
      "Processed prompts: 100%|██████████| 1/1 [00:03<00:00,  3.76s/it, Generation Speed: 42.87 toks/s]\n"
     ]
    },
    {
     "name": "stdout",
     "output_type": "stream",
     "text": [
      "Processed 1/1 instances.\n"
     ]
    },
    {
     "name": "stderr",
     "output_type": "stream",
     "text": [
      "Finalizing: 100%|██████████| 1/1 [00:00<00:00, 47127.01it/s]\n",
      "Processed prompts: 100%|██████████| 1/1 [00:05<00:00,  5.36s/it, Generation Speed: 42.93 toks/s]\n"
     ]
    },
    {
     "name": "stdout",
     "output_type": "stream",
     "text": [
      "Processed 1/1 instances.\n"
     ]
    },
    {
     "name": "stderr",
     "output_type": "stream",
     "text": [
      "Finalizing: 100%|██████████| 1/1 [00:00<00:00, 60787.01it/s]\n",
      "Processed prompts: 100%|██████████| 1/1 [00:04<00:00,  4.39s/it, Generation Speed: 42.85 toks/s]\n"
     ]
    },
    {
     "name": "stdout",
     "output_type": "stream",
     "text": [
      "Processed 1/1 instances.\n"
     ]
    },
    {
     "name": "stderr",
     "output_type": "stream",
     "text": [
      "Finalizing: 100%|██████████| 1/1 [00:00<00:00, 48770.98it/s]\n",
      "Processed prompts: 100%|██████████| 1/1 [00:04<00:00,  4.24s/it, Generation Speed: 42.90 toks/s]\n"
     ]
    },
    {
     "name": "stdout",
     "output_type": "stream",
     "text": [
      "Processed 1/1 instances.\n"
     ]
    },
    {
     "name": "stderr",
     "output_type": "stream",
     "text": [
      "Finalizing: 100%|██████████| 1/1 [00:00<00:00, 47662.55it/s]\n",
      "Processed prompts: 100%|██████████| 1/1 [00:05<00:00,  5.87s/it, Generation Speed: 42.96 toks/s]\n"
     ]
    },
    {
     "name": "stdout",
     "output_type": "stream",
     "text": [
      "Processed 1/1 instances.\n"
     ]
    },
    {
     "name": "stderr",
     "output_type": "stream",
     "text": [
      "Finalizing: 100%|██████████| 1/1 [00:00<00:00, 43240.25it/s]\n",
      "Processed prompts: 100%|██████████| 1/1 [00:03<00:00,  3.78s/it, Generation Speed: 42.82 toks/s]\n"
     ]
    },
    {
     "name": "stdout",
     "output_type": "stream",
     "text": [
      "Processed 1/1 instances.\n"
     ]
    },
    {
     "name": "stderr",
     "output_type": "stream",
     "text": [
      "Finalizing: 100%|██████████| 1/1 [00:00<00:00, 47662.55it/s]\n",
      "Processed prompts: 100%|██████████| 1/1 [00:04<00:00,  4.96s/it, Generation Speed: 43.14 toks/s]\n"
     ]
    },
    {
     "name": "stdout",
     "output_type": "stream",
     "text": [
      "Processed 1/1 instances.\n"
     ]
    },
    {
     "name": "stderr",
     "output_type": "stream",
     "text": [
      "Finalizing: 100%|██████████| 1/1 [00:00<00:00, 24672.38it/s]\n",
      "Processed prompts: 100%|██████████| 1/1 [00:03<00:00,  3.61s/it, Generation Speed: 42.96 toks/s]\n"
     ]
    },
    {
     "name": "stdout",
     "output_type": "stream",
     "text": [
      "Processed 1/1 instances.\n"
     ]
    },
    {
     "name": "stderr",
     "output_type": "stream",
     "text": [
      "Finalizing: 100%|██████████| 1/1 [00:00<00:00, 47127.01it/s]\n",
      "Processed prompts: 100%|██████████| 1/1 [00:03<00:00,  3.83s/it, Generation Speed: 42.84 toks/s]\n"
     ]
    },
    {
     "name": "stdout",
     "output_type": "stream",
     "text": [
      "Processed 1/1 instances.\n"
     ]
    },
    {
     "name": "stderr",
     "output_type": "stream",
     "text": [
      "Finalizing: 100%|██████████| 1/1 [00:00<00:00, 51781.53it/s]\n",
      "Processed prompts: 100%|██████████| 1/1 [00:06<00:00,  6.23s/it, Generation Speed: 42.99 toks/s]\n"
     ]
    },
    {
     "name": "stdout",
     "output_type": "stream",
     "text": [
      "Processed 1/1 instances.\n"
     ]
    },
    {
     "name": "stderr",
     "output_type": "stream",
     "text": [
      "Finalizing: 100%|██████████| 1/1 [00:00<00:00, 54471.48it/s]\n",
      "Processed prompts: 100%|██████████| 1/1 [00:04<00:00,  4.57s/it, Generation Speed: 43.08 toks/s]\n"
     ]
    },
    {
     "name": "stdout",
     "output_type": "stream",
     "text": [
      "Processed 1/1 instances.\n"
     ]
    },
    {
     "name": "stderr",
     "output_type": "stream",
     "text": [
      "Finalizing: 100%|██████████| 1/1 [00:00<00:00, 59918.63it/s]\n",
      "Processed prompts: 100%|██████████| 1/1 [00:03<00:00,  3.99s/it, Generation Speed: 42.87 toks/s]\n"
     ]
    },
    {
     "name": "stdout",
     "output_type": "stream",
     "text": [
      "Processed 1/1 instances.\n"
     ]
    },
    {
     "name": "stderr",
     "output_type": "stream",
     "text": [
      "Finalizing: 100%|██████████| 1/1 [00:00<00:00, 59918.63it/s]\n",
      "Processed prompts: 100%|██████████| 1/1 [00:04<00:00,  4.78s/it, Generation Speed: 43.11 toks/s]\n"
     ]
    },
    {
     "name": "stdout",
     "output_type": "stream",
     "text": [
      "Processed 1/1 instances.\n"
     ]
    },
    {
     "name": "stderr",
     "output_type": "stream",
     "text": [
      "Finalizing: 100%|██████████| 1/1 [00:00<00:00, 41943.04it/s]\n",
      "Processed prompts: 100%|██████████| 1/1 [00:03<00:00,  3.12s/it, Generation Speed: 42.57 toks/s]\n"
     ]
    },
    {
     "name": "stdout",
     "output_type": "stream",
     "text": [
      "Processed 1/1 instances.\n"
     ]
    },
    {
     "name": "stderr",
     "output_type": "stream",
     "text": [
      "Finalizing: 100%|██████████| 1/1 [00:00<00:00, 48770.98it/s]\n",
      "Processed prompts: 100%|██████████| 1/1 [00:04<00:00,  4.26s/it, Generation Speed: 42.78 toks/s]\n"
     ]
    },
    {
     "name": "stdout",
     "output_type": "stream",
     "text": [
      "Processed 1/1 instances.\n"
     ]
    },
    {
     "name": "stderr",
     "output_type": "stream",
     "text": [
      "Finalizing: 100%|██████████| 1/1 [00:00<00:00, 25890.77it/s]\n",
      "Processed prompts: 100%|██████████| 1/1 [00:04<00:00,  4.05s/it, Generation Speed: 43.00 toks/s]\n"
     ]
    },
    {
     "name": "stdout",
     "output_type": "stream",
     "text": [
      "Processed 1/1 instances.\n"
     ]
    },
    {
     "name": "stderr",
     "output_type": "stream",
     "text": [
      "Finalizing: 100%|██████████| 1/1 [00:00<00:00, 46603.38it/s]\n",
      "Processed prompts: 100%|██████████| 1/1 [00:03<00:00,  3.74s/it, Generation Speed: 42.82 toks/s]\n"
     ]
    },
    {
     "name": "stdout",
     "output_type": "stream",
     "text": [
      "Processed 1/1 instances.\n"
     ]
    },
    {
     "name": "stderr",
     "output_type": "stream",
     "text": [
      "Finalizing: 100%|██████████| 1/1 [00:00<00:00, 36472.21it/s]\n",
      "Processed prompts: 100%|██████████| 1/1 [00:04<00:00,  4.59s/it, Generation Speed: 42.90 toks/s]\n"
     ]
    },
    {
     "name": "stdout",
     "output_type": "stream",
     "text": [
      "Processed 1/1 instances.\n"
     ]
    },
    {
     "name": "stderr",
     "output_type": "stream",
     "text": [
      "Finalizing: 100%|██████████| 1/1 [00:00<00:00, 50533.78it/s]\n",
      "Processed prompts: 100%|██████████| 1/1 [00:03<00:00,  3.92s/it, Generation Speed: 42.91 toks/s]\n"
     ]
    },
    {
     "name": "stdout",
     "output_type": "stream",
     "text": [
      "Processed 1/1 instances.\n"
     ]
    },
    {
     "name": "stderr",
     "output_type": "stream",
     "text": [
      "Finalizing: 100%|██████████| 1/1 [00:00<00:00, 59074.70it/s]\n",
      "Processed prompts: 100%|██████████| 1/1 [00:04<00:00,  4.63s/it, Generation Speed: 42.97 toks/s]\n"
     ]
    },
    {
     "name": "stdout",
     "output_type": "stream",
     "text": [
      "Processed 1/1 instances.\n"
     ]
    },
    {
     "name": "stderr",
     "output_type": "stream",
     "text": [
      "Finalizing: 100%|██████████| 1/1 [00:00<00:00, 56679.78it/s]\n",
      "Processed prompts: 100%|██████████| 1/1 [00:03<00:00,  3.34s/it, Generation Speed: 42.82 toks/s]\n"
     ]
    },
    {
     "name": "stdout",
     "output_type": "stream",
     "text": [
      "Processed 1/1 instances.\n"
     ]
    },
    {
     "name": "stderr",
     "output_type": "stream",
     "text": [
      "Finalizing: 100%|██████████| 1/1 [00:00<00:00, 64527.75it/s]\n",
      "Processed prompts: 100%|██████████| 1/1 [00:05<00:00,  5.46s/it, Generation Speed: 43.01 toks/s]\n"
     ]
    },
    {
     "name": "stdout",
     "output_type": "stream",
     "text": [
      "Processed 1/1 instances.\n"
     ]
    },
    {
     "name": "stderr",
     "output_type": "stream",
     "text": [
      "Finalizing: 100%|██████████| 1/1 [00:00<00:00, 54471.48it/s]\n",
      "Processed prompts: 100%|██████████| 1/1 [00:03<00:00,  3.47s/it, Generation Speed: 42.91 toks/s]\n"
     ]
    },
    {
     "name": "stdout",
     "output_type": "stream",
     "text": [
      "Processed 1/1 instances.\n"
     ]
    },
    {
     "name": "stderr",
     "output_type": "stream",
     "text": [
      "Finalizing: 100%|██████████| 1/1 [00:00<00:00, 61680.94it/s]\n",
      "Processed prompts: 100%|██████████| 1/1 [00:03<00:00,  3.63s/it, Generation Speed: 42.95 toks/s]\n"
     ]
    },
    {
     "name": "stdout",
     "output_type": "stream",
     "text": [
      "Processed 1/1 instances.\n"
     ]
    },
    {
     "name": "stderr",
     "output_type": "stream",
     "text": [
      "Finalizing: 100%|██████████| 1/1 [00:00<00:00, 65536.00it/s]\n",
      "Processed prompts: 100%|██████████| 1/1 [00:04<00:00,  4.54s/it, Generation Speed: 42.95 toks/s]\n"
     ]
    },
    {
     "name": "stdout",
     "output_type": "stream",
     "text": [
      "Processed 1/1 instances.\n"
     ]
    },
    {
     "name": "stderr",
     "output_type": "stream",
     "text": [
      "Finalizing: 100%|██████████| 1/1 [00:00<00:00, 54471.48it/s]\n",
      "Processed prompts: 100%|██████████| 1/1 [00:04<00:00,  4.59s/it, Generation Speed: 42.91 toks/s]\n"
     ]
    },
    {
     "name": "stdout",
     "output_type": "stream",
     "text": [
      "Processed 1/1 instances.\n"
     ]
    },
    {
     "name": "stderr",
     "output_type": "stream",
     "text": [
      "Finalizing: 100%|██████████| 1/1 [00:00<00:00, 63550.06it/s]\n",
      "Processed prompts: 100%|██████████| 1/1 [00:03<00:00,  3.56s/it, Generation Speed: 42.72 toks/s]\n"
     ]
    },
    {
     "name": "stdout",
     "output_type": "stream",
     "text": [
      "Processed 1/1 instances.\n"
     ]
    },
    {
     "name": "stderr",
     "output_type": "stream",
     "text": [
      "Finalizing: 100%|██████████| 1/1 [00:00<00:00, 42799.02it/s]\n",
      "Processed prompts: 100%|██████████| 1/1 [00:05<00:00,  5.23s/it, Generation Speed: 42.87 toks/s]\n"
     ]
    },
    {
     "name": "stdout",
     "output_type": "stream",
     "text": [
      "Processed 1/1 instances.\n"
     ]
    },
    {
     "name": "stderr",
     "output_type": "stream",
     "text": [
      "Finalizing: 100%|██████████| 1/1 [00:00<00:00, 59918.63it/s]\n",
      "Processed prompts: 100%|██████████| 1/1 [00:04<00:00,  4.34s/it, Generation Speed: 43.05 toks/s]\n"
     ]
    },
    {
     "name": "stdout",
     "output_type": "stream",
     "text": [
      "Processed 1/1 instances.\n"
     ]
    },
    {
     "name": "stderr",
     "output_type": "stream",
     "text": [
      "Finalizing: 100%|██████████| 1/1 [00:00<00:00, 64527.75it/s]\n",
      "Processed prompts: 100%|██████████| 1/1 [00:02<00:00,  2.99s/it, Generation Speed: 42.84 toks/s]\n"
     ]
    },
    {
     "name": "stdout",
     "output_type": "stream",
     "text": [
      "Processed 1/1 instances.\n"
     ]
    },
    {
     "name": "stderr",
     "output_type": "stream",
     "text": [
      "Finalizing: 100%|██████████| 1/1 [00:00<00:00, 62601.55it/s]\n",
      "Processed prompts: 100%|██████████| 1/1 [00:04<00:00,  4.20s/it, Generation Speed: 42.90 toks/s]\n"
     ]
    },
    {
     "name": "stdout",
     "output_type": "stream",
     "text": [
      "Processed 1/1 instances.\n"
     ]
    },
    {
     "name": "stderr",
     "output_type": "stream",
     "text": [
      "Finalizing: 100%|██████████| 1/1 [00:00<00:00, 37786.52it/s]\n",
      "Processed prompts: 100%|██████████| 1/1 [00:05<00:00,  5.39s/it, Generation Speed: 43.05 toks/s]\n"
     ]
    },
    {
     "name": "stdout",
     "output_type": "stream",
     "text": [
      "Processed 1/1 instances.\n"
     ]
    },
    {
     "name": "stderr",
     "output_type": "stream",
     "text": [
      "Finalizing: 100%|██████████| 1/1 [00:00<00:00, 59918.63it/s]\n",
      "Processed prompts: 100%|██████████| 1/1 [00:04<00:00,  4.66s/it, Generation Speed: 42.96 toks/s]\n"
     ]
    },
    {
     "name": "stdout",
     "output_type": "stream",
     "text": [
      "Processed 1/1 instances.\n"
     ]
    },
    {
     "name": "stderr",
     "output_type": "stream",
     "text": [
      "Finalizing: 100%|██████████| 1/1 [00:00<00:00, 43690.67it/s]\n",
      "Processed prompts: 100%|██████████| 1/1 [00:05<00:00,  5.15s/it, Generation Speed: 42.90 toks/s]\n"
     ]
    },
    {
     "name": "stdout",
     "output_type": "stream",
     "text": [
      "Processed 1/1 instances.\n"
     ]
    },
    {
     "name": "stderr",
     "output_type": "stream",
     "text": [
      "Finalizing: 100%|██████████| 1/1 [00:00<00:00, 45100.04it/s]\n",
      "Processed prompts: 100%|██████████| 1/1 [00:05<00:00,  5.77s/it, Generation Speed: 43.17 toks/s]\n"
     ]
    },
    {
     "name": "stdout",
     "output_type": "stream",
     "text": [
      "Processed 1/1 instances.\n"
     ]
    },
    {
     "name": "stderr",
     "output_type": "stream",
     "text": [
      "Finalizing: 100%|██████████| 1/1 [00:00<00:00, 46091.25it/s]\n",
      "Processed prompts: 100%|██████████| 1/1 [00:03<00:00,  3.54s/it, Generation Speed: 42.93 toks/s]\n"
     ]
    },
    {
     "name": "stdout",
     "output_type": "stream",
     "text": [
      "Processed 1/1 instances.\n"
     ]
    },
    {
     "name": "stderr",
     "output_type": "stream",
     "text": [
      "Finalizing: 100%|██████████| 1/1 [00:00<00:00, 37786.52it/s]\n",
      "Processed prompts: 100%|██████████| 1/1 [00:03<00:00,  3.30s/it, Generation Speed: 42.73 toks/s]\n"
     ]
    },
    {
     "name": "stdout",
     "output_type": "stream",
     "text": [
      "Processed 1/1 instances.\n"
     ]
    },
    {
     "name": "stderr",
     "output_type": "stream",
     "text": [
      "Finalizing: 100%|██████████| 1/1 [00:00<00:00, 43240.25it/s]\n",
      "Processed prompts: 100%|██████████| 1/1 [00:05<00:00,  5.16s/it, Generation Speed: 43.04 toks/s]\n"
     ]
    },
    {
     "name": "stdout",
     "output_type": "stream",
     "text": [
      "Processed 1/1 instances.\n"
     ]
    },
    {
     "name": "stderr",
     "output_type": "stream",
     "text": [
      "Finalizing: 100%|██████████| 1/1 [00:00<00:00, 62601.55it/s]\n",
      "Processed prompts: 100%|██████████| 1/1 [00:04<00:00,  4.63s/it, Generation Speed: 42.98 toks/s]\n"
     ]
    },
    {
     "name": "stdout",
     "output_type": "stream",
     "text": [
      "Processed 1/1 instances.\n"
     ]
    },
    {
     "name": "stderr",
     "output_type": "stream",
     "text": [
      "Finalizing: 100%|██████████| 1/1 [00:00<00:00, 52428.80it/s]\n",
      "Processed prompts: 100%|██████████| 1/1 [00:03<00:00,  3.51s/it, Generation Speed: 42.79 toks/s]\n"
     ]
    },
    {
     "name": "stdout",
     "output_type": "stream",
     "text": [
      "Processed 1/1 instances.\n"
     ]
    },
    {
     "name": "stderr",
     "output_type": "stream",
     "text": [
      "Finalizing: 100%|██████████| 1/1 [00:00<00:00, 51781.53it/s]\n",
      "Processed prompts: 100%|██████████| 1/1 [00:03<00:00,  3.63s/it, Generation Speed: 42.99 toks/s]\n"
     ]
    },
    {
     "name": "stdout",
     "output_type": "stream",
     "text": [
      "Processed 1/1 instances.\n"
     ]
    },
    {
     "name": "stderr",
     "output_type": "stream",
     "text": [
      "Finalizing: 100%|██████████| 1/1 [00:00<00:00, 48210.39it/s]\n",
      "Processed prompts: 100%|██████████| 1/1 [00:05<00:00,  5.37s/it, Generation Speed: 43.05 toks/s]\n"
     ]
    },
    {
     "name": "stdout",
     "output_type": "stream",
     "text": [
      "Processed 1/1 instances.\n"
     ]
    },
    {
     "name": "stderr",
     "output_type": "stream",
     "text": [
      "Finalizing: 100%|██████████| 1/1 [00:00<00:00, 44620.26it/s]\n",
      "Processed prompts: 100%|██████████| 1/1 [00:04<00:00,  4.17s/it, Generation Speed: 42.91 toks/s]\n"
     ]
    },
    {
     "name": "stdout",
     "output_type": "stream",
     "text": [
      "Processed 1/1 instances.\n"
     ]
    },
    {
     "name": "stderr",
     "output_type": "stream",
     "text": [
      "Finalizing: 100%|██████████| 1/1 [00:00<00:00, 52428.80it/s]\n",
      "Processed prompts: 100%|██████████| 1/1 [00:04<00:00,  4.30s/it, Generation Speed: 43.06 toks/s]\n"
     ]
    },
    {
     "name": "stdout",
     "output_type": "stream",
     "text": [
      "Processed 1/1 instances.\n"
     ]
    },
    {
     "name": "stderr",
     "output_type": "stream",
     "text": [
      "Finalizing: 100%|██████████| 1/1 [00:00<00:00, 66576.25it/s]\n",
      "Processed prompts: 100%|██████████| 1/1 [00:04<00:00,  4.34s/it, Generation Speed: 43.08 toks/s]\n"
     ]
    },
    {
     "name": "stdout",
     "output_type": "stream",
     "text": [
      "Processed 1/1 instances.\n"
     ]
    },
    {
     "name": "stderr",
     "output_type": "stream",
     "text": [
      "Finalizing: 100%|██████████| 1/1 [00:00<00:00, 20661.60it/s]\n",
      "Processed prompts: 100%|██████████| 1/1 [00:04<00:00,  4.21s/it, Generation Speed: 43.05 toks/s]\n"
     ]
    },
    {
     "name": "stdout",
     "output_type": "stream",
     "text": [
      "Processed 1/1 instances.\n"
     ]
    },
    {
     "name": "stderr",
     "output_type": "stream",
     "text": [
      "Finalizing: 100%|██████████| 1/1 [00:00<00:00, 46091.25it/s]\n",
      "Processed prompts: 100%|██████████| 1/1 [00:04<00:00,  4.71s/it, Generation Speed: 43.11 toks/s]\n"
     ]
    },
    {
     "name": "stdout",
     "output_type": "stream",
     "text": [
      "Processed 1/1 instances.\n"
     ]
    },
    {
     "name": "stderr",
     "output_type": "stream",
     "text": [
      "Finalizing: 100%|██████████| 1/1 [00:00<00:00, 61680.94it/s]\n",
      "Processed prompts: 100%|██████████| 1/1 [00:03<00:00,  3.16s/it, Generation Speed: 42.71 toks/s]\n"
     ]
    },
    {
     "name": "stdout",
     "output_type": "stream",
     "text": [
      "Processed 1/1 instances.\n"
     ]
    },
    {
     "name": "stderr",
     "output_type": "stream",
     "text": [
      "Finalizing: 100%|██████████| 1/1 [00:00<00:00, 33026.02it/s]\n",
      "Processed prompts: 100%|██████████| 1/1 [00:03<00:00,  3.25s/it, Generation Speed: 42.73 toks/s]\n"
     ]
    },
    {
     "name": "stdout",
     "output_type": "stream",
     "text": [
      "Processed 1/1 instances.\n"
     ]
    },
    {
     "name": "stderr",
     "output_type": "stream",
     "text": [
      "Finalizing: 100%|██████████| 1/1 [00:00<00:00, 64527.75it/s]\n",
      "Processed prompts: 100%|██████████| 1/1 [00:03<00:00,  3.74s/it, Generation Speed: 43.01 toks/s]\n"
     ]
    },
    {
     "name": "stdout",
     "output_type": "stream",
     "text": [
      "Processed 1/1 instances.\n"
     ]
    },
    {
     "name": "stderr",
     "output_type": "stream",
     "text": [
      "Finalizing: 100%|██████████| 1/1 [00:00<00:00, 60787.01it/s]\n",
      "Processed prompts: 100%|██████████| 1/1 [00:04<00:00,  4.01s/it, Generation Speed: 42.87 toks/s]\n"
     ]
    },
    {
     "name": "stdout",
     "output_type": "stream",
     "text": [
      "Processed 1/1 instances.\n"
     ]
    },
    {
     "name": "stderr",
     "output_type": "stream",
     "text": [
      "Finalizing: 100%|██████████| 1/1 [00:00<00:00, 55924.05it/s]\n",
      "Processed prompts: 100%|██████████| 1/1 [00:03<00:00,  3.88s/it, Generation Speed: 43.00 toks/s]\n"
     ]
    },
    {
     "name": "stdout",
     "output_type": "stream",
     "text": [
      "Processed 1/1 instances.\n"
     ]
    },
    {
     "name": "stderr",
     "output_type": "stream",
     "text": [
      "Finalizing: 100%|██████████| 1/1 [00:00<00:00, 34952.53it/s]\n",
      "Processed prompts: 100%|██████████| 1/1 [00:07<00:00,  7.65s/it, Generation Speed: 43.12 toks/s]\n"
     ]
    },
    {
     "name": "stdout",
     "output_type": "stream",
     "text": [
      "Processed 1/1 instances.\n"
     ]
    },
    {
     "name": "stderr",
     "output_type": "stream",
     "text": [
      "Finalizing: 100%|██████████| 1/1 [00:00<00:00, 56679.78it/s]\n",
      "Processed prompts: 100%|██████████| 1/1 [00:04<00:00,  4.16s/it, Generation Speed: 43.05 toks/s]\n"
     ]
    },
    {
     "name": "stdout",
     "output_type": "stream",
     "text": [
      "Processed 1/1 instances.\n"
     ]
    },
    {
     "name": "stderr",
     "output_type": "stream",
     "text": [
      "Finalizing: 100%|██████████| 1/1 [00:00<00:00, 48770.98it/s]\n",
      "Processed prompts: 100%|██████████| 1/1 [00:03<00:00,  3.86s/it, Generation Speed: 43.00 toks/s]\n"
     ]
    },
    {
     "name": "stdout",
     "output_type": "stream",
     "text": [
      "Processed 1/1 instances.\n"
     ]
    },
    {
     "name": "stderr",
     "output_type": "stream",
     "text": [
      "Finalizing: 100%|██████████| 1/1 [00:00<00:00, 31536.12it/s]\n",
      "Processed prompts: 100%|██████████| 1/1 [00:05<00:00,  5.09s/it, Generation Speed: 43.02 toks/s]\n"
     ]
    },
    {
     "name": "stdout",
     "output_type": "stream",
     "text": [
      "Processed 1/1 instances.\n"
     ]
    },
    {
     "name": "stderr",
     "output_type": "stream",
     "text": [
      "Finalizing: 100%|██████████| 1/1 [00:00<00:00, 64527.75it/s]\n",
      "Processed prompts: 100%|██████████| 1/1 [00:03<00:00,  3.43s/it, Generation Speed: 42.92 toks/s]\n"
     ]
    },
    {
     "name": "stdout",
     "output_type": "stream",
     "text": [
      "Processed 1/1 instances.\n"
     ]
    },
    {
     "name": "stderr",
     "output_type": "stream",
     "text": [
      "Finalizing: 100%|██████████| 1/1 [00:00<00:00, 63550.06it/s]\n",
      "Processed prompts: 100%|██████████| 1/1 [00:06<00:00,  6.73s/it, Generation Speed: 43.26 toks/s]\n"
     ]
    },
    {
     "name": "stdout",
     "output_type": "stream",
     "text": [
      "Processed 1/1 instances.\n"
     ]
    },
    {
     "name": "stderr",
     "output_type": "stream",
     "text": [
      "Finalizing: 100%|██████████| 1/1 [00:00<00:00, 37449.14it/s]\n",
      "Processed prompts: 100%|██████████| 1/1 [00:05<00:00,  5.72s/it, Generation Speed: 43.19 toks/s]\n"
     ]
    },
    {
     "name": "stdout",
     "output_type": "stream",
     "text": [
      "Processed 1/1 instances.\n"
     ]
    },
    {
     "name": "stderr",
     "output_type": "stream",
     "text": [
      "Finalizing: 100%|██████████| 1/1 [00:00<00:00, 26715.31it/s]\n",
      "Processed prompts: 100%|██████████| 1/1 [00:06<00:00,  6.90s/it, Generation Speed: 43.18 toks/s]\n"
     ]
    },
    {
     "name": "stdout",
     "output_type": "stream",
     "text": [
      "Processed 1/1 instances.\n"
     ]
    },
    {
     "name": "stderr",
     "output_type": "stream",
     "text": [
      "Finalizing: 100%|██████████| 1/1 [00:00<00:00, 8848.74it/s]\n",
      "Processed prompts: 100%|██████████| 1/1 [00:05<00:00,  5.01s/it, Generation Speed: 42.89 toks/s]\n"
     ]
    },
    {
     "name": "stdout",
     "output_type": "stream",
     "text": [
      "Processed 1/1 instances.\n"
     ]
    },
    {
     "name": "stderr",
     "output_type": "stream",
     "text": [
      "Finalizing: 100%|██████████| 1/1 [00:00<00:00, 59074.70it/s]\n",
      "Processed prompts: 100%|██████████| 1/1 [00:02<00:00,  2.66s/it, Generation Speed: 42.52 toks/s]\n"
     ]
    },
    {
     "name": "stdout",
     "output_type": "stream",
     "text": [
      "Processed 1/1 instances.\n"
     ]
    },
    {
     "name": "stderr",
     "output_type": "stream",
     "text": [
      "Finalizing: 100%|██████████| 1/1 [00:00<00:00, 60787.01it/s]\n",
      "Processed prompts: 100%|██████████| 1/1 [00:04<00:00,  4.88s/it, Generation Speed: 43.01 toks/s]\n"
     ]
    },
    {
     "name": "stdout",
     "output_type": "stream",
     "text": [
      "Processed 1/1 instances.\n"
     ]
    },
    {
     "name": "stderr",
     "output_type": "stream",
     "text": [
      "Finalizing: 100%|██████████| 1/1 [00:00<00:00, 54471.48it/s]\n",
      "Processed prompts: 100%|██████████| 1/1 [00:05<00:00,  5.08s/it, Generation Speed: 43.14 toks/s]\n"
     ]
    },
    {
     "name": "stdout",
     "output_type": "stream",
     "text": [
      "Processed 1/1 instances.\n"
     ]
    },
    {
     "name": "stderr",
     "output_type": "stream",
     "text": [
      "Finalizing: 100%|██████████| 1/1 [00:00<00:00, 37117.73it/s]\n",
      "Processed prompts: 100%|██████████| 1/1 [00:04<00:00,  4.82s/it, Generation Speed: 42.98 toks/s]\n"
     ]
    },
    {
     "name": "stdout",
     "output_type": "stream",
     "text": [
      "Processed 1/1 instances.\n"
     ]
    },
    {
     "name": "stderr",
     "output_type": "stream",
     "text": [
      "Finalizing: 100%|██████████| 1/1 [00:00<00:00, 59918.63it/s]\n",
      "Processed prompts: 100%|██████████| 1/1 [00:04<00:00,  4.86s/it, Generation Speed: 43.00 toks/s]\n"
     ]
    },
    {
     "name": "stdout",
     "output_type": "stream",
     "text": [
      "Processed 1/1 instances.\n"
     ]
    },
    {
     "name": "stderr",
     "output_type": "stream",
     "text": [
      "Finalizing: 100%|██████████| 1/1 [00:00<00:00, 64527.75it/s]\n",
      "Processed prompts: 100%|██████████| 1/1 [00:05<00:00,  5.23s/it, Generation Speed: 43.04 toks/s]\n"
     ]
    },
    {
     "name": "stdout",
     "output_type": "stream",
     "text": [
      "Processed 1/1 instances.\n"
     ]
    },
    {
     "name": "stderr",
     "output_type": "stream",
     "text": [
      "Finalizing: 100%|██████████| 1/1 [00:00<00:00, 59918.63it/s]\n",
      "Processed prompts: 100%|██████████| 1/1 [00:06<00:00,  6.71s/it, Generation Speed: 43.24 toks/s]\n"
     ]
    },
    {
     "name": "stdout",
     "output_type": "stream",
     "text": [
      "Processed 1/1 instances.\n"
     ]
    },
    {
     "name": "stderr",
     "output_type": "stream",
     "text": [
      "Finalizing: 100%|██████████| 1/1 [00:00<00:00, 41527.76it/s]\n",
      "Processed prompts: 100%|██████████| 1/1 [00:07<00:00,  7.65s/it, Generation Speed: 43.13 toks/s]\n"
     ]
    },
    {
     "name": "stdout",
     "output_type": "stream",
     "text": [
      "Processed 1/1 instances.\n"
     ]
    },
    {
     "name": "stderr",
     "output_type": "stream",
     "text": [
      "Finalizing: 100%|██████████| 1/1 [00:00<00:00, 53773.13it/s]\n",
      "Processed prompts: 100%|██████████| 1/1 [00:03<00:00,  3.91s/it, Generation Speed: 43.02 toks/s]\n"
     ]
    },
    {
     "name": "stdout",
     "output_type": "stream",
     "text": [
      "Processed 1/1 instances.\n"
     ]
    },
    {
     "name": "stderr",
     "output_type": "stream",
     "text": [
      "Finalizing: 100%|██████████| 1/1 [00:00<00:00, 59918.63it/s]\n",
      "Processed prompts: 100%|██████████| 1/1 [00:04<00:00,  4.41s/it, Generation Speed: 43.05 toks/s]\n"
     ]
    },
    {
     "name": "stdout",
     "output_type": "stream",
     "text": [
      "Processed 1/1 instances.\n"
     ]
    },
    {
     "name": "stderr",
     "output_type": "stream",
     "text": [
      "Finalizing: 100%|██████████| 1/1 [00:00<00:00, 59074.70it/s]\n",
      "Processed prompts: 100%|██████████| 1/1 [00:04<00:00,  4.89s/it, Generation Speed: 42.98 toks/s]\n"
     ]
    },
    {
     "name": "stdout",
     "output_type": "stream",
     "text": [
      "Processed 1/1 instances.\n"
     ]
    },
    {
     "name": "stderr",
     "output_type": "stream",
     "text": [
      "Finalizing: 100%|██████████| 1/1 [00:00<00:00, 34952.53it/s]\n",
      "Processed prompts: 100%|██████████| 1/1 [00:04<00:00,  4.89s/it, Generation Speed: 43.00 toks/s]\n"
     ]
    },
    {
     "name": "stdout",
     "output_type": "stream",
     "text": [
      "Processed 1/1 instances.\n"
     ]
    },
    {
     "name": "stderr",
     "output_type": "stream",
     "text": [
      "Finalizing: 100%|██████████| 1/1 [00:00<00:00, 27060.03it/s]\n",
      "Processed prompts: 100%|██████████| 1/1 [00:04<00:00,  4.24s/it, Generation Speed: 42.92 toks/s]\n"
     ]
    },
    {
     "name": "stdout",
     "output_type": "stream",
     "text": [
      "Processed 1/1 instances.\n"
     ]
    },
    {
     "name": "stderr",
     "output_type": "stream",
     "text": [
      "Finalizing: 100%|██████████| 1/1 [00:00<00:00, 43690.67it/s]\n",
      "Processed prompts: 100%|██████████| 1/1 [00:04<00:00,  4.06s/it, Generation Speed: 42.89 toks/s]\n"
     ]
    },
    {
     "name": "stdout",
     "output_type": "stream",
     "text": [
      "Processed 1/1 instances.\n"
     ]
    },
    {
     "name": "stderr",
     "output_type": "stream",
     "text": [
      "Finalizing: 100%|██████████| 1/1 [00:00<00:00, 49344.75it/s]\n",
      "Processed prompts: 100%|██████████| 1/1 [00:06<00:00,  6.38s/it, Generation Speed: 43.13 toks/s]\n"
     ]
    },
    {
     "name": "stdout",
     "output_type": "stream",
     "text": [
      "Processed 1/1 instances.\n"
     ]
    },
    {
     "name": "stderr",
     "output_type": "stream",
     "text": [
      "Finalizing: 100%|██████████| 1/1 [00:00<00:00, 59074.70it/s]\n",
      "Processed prompts: 100%|██████████| 1/1 [00:04<00:00,  4.38s/it, Generation Speed: 42.94 toks/s]\n"
     ]
    },
    {
     "name": "stdout",
     "output_type": "stream",
     "text": [
      "Processed 1/1 instances.\n"
     ]
    },
    {
     "name": "stderr",
     "output_type": "stream",
     "text": [
      "Finalizing: 100%|██████████| 1/1 [00:00<00:00, 28532.68it/s]\n",
      "Processed prompts: 100%|██████████| 1/1 [00:07<00:00,  7.81s/it, Generation Speed: 43.13 toks/s]\n"
     ]
    },
    {
     "name": "stdout",
     "output_type": "stream",
     "text": [
      "Processed 1/1 instances.\n"
     ]
    },
    {
     "name": "stderr",
     "output_type": "stream",
     "text": [
      "Finalizing: 100%|██████████| 1/1 [00:00<00:00, 59074.70it/s]\n",
      "Processed prompts: 100%|██████████| 1/1 [00:04<00:00,  4.91s/it, Generation Speed: 43.01 toks/s]\n"
     ]
    },
    {
     "name": "stdout",
     "output_type": "stream",
     "text": [
      "Processed 1/1 instances.\n"
     ]
    },
    {
     "name": "stderr",
     "output_type": "stream",
     "text": [
      "Finalizing: 100%|██████████| 1/1 [00:00<00:00, 46091.25it/s]\n",
      "Processed prompts: 100%|██████████| 1/1 [00:03<00:00,  3.81s/it, Generation Speed: 43.00 toks/s]\n"
     ]
    },
    {
     "name": "stdout",
     "output_type": "stream",
     "text": [
      "Processed 1/1 instances.\n"
     ]
    },
    {
     "name": "stderr",
     "output_type": "stream",
     "text": [
      "Finalizing: 100%|██████████| 1/1 [00:00<00:00, 63550.06it/s]\n",
      "Processed prompts: 100%|██████████| 1/1 [00:05<00:00,  5.14s/it, Generation Speed: 43.01 toks/s]\n"
     ]
    },
    {
     "name": "stdout",
     "output_type": "stream",
     "text": [
      "Processed 1/1 instances.\n"
     ]
    },
    {
     "name": "stderr",
     "output_type": "stream",
     "text": [
      "Finalizing: 100%|██████████| 1/1 [00:00<00:00, 63550.06it/s]\n",
      "Processed prompts: 100%|██████████| 1/1 [00:03<00:00,  3.69s/it, Generation Speed: 42.83 toks/s]\n"
     ]
    },
    {
     "name": "stdout",
     "output_type": "stream",
     "text": [
      "Processed 1/1 instances.\n"
     ]
    },
    {
     "name": "stderr",
     "output_type": "stream",
     "text": [
      "Finalizing: 100%|██████████| 1/1 [00:00<00:00, 62601.55it/s]\n",
      "Processed prompts: 100%|██████████| 1/1 [00:04<00:00,  4.75s/it, Generation Speed: 42.98 toks/s]\n"
     ]
    },
    {
     "name": "stdout",
     "output_type": "stream",
     "text": [
      "Processed 1/1 instances.\n"
     ]
    },
    {
     "name": "stderr",
     "output_type": "stream",
     "text": [
      "Finalizing: 100%|██████████| 1/1 [00:00<00:00, 58254.22it/s]\n",
      "Processed prompts: 100%|██████████| 1/1 [00:03<00:00,  3.54s/it, Generation Speed: 42.96 toks/s]\n"
     ]
    },
    {
     "name": "stdout",
     "output_type": "stream",
     "text": [
      "Processed 1/1 instances.\n"
     ]
    },
    {
     "name": "stderr",
     "output_type": "stream",
     "text": [
      "Finalizing: 100%|██████████| 1/1 [00:00<00:00, 48210.39it/s]\n",
      "Processed prompts: 100%|██████████| 1/1 [00:03<00:00,  3.72s/it, Generation Speed: 42.80 toks/s]\n"
     ]
    },
    {
     "name": "stdout",
     "output_type": "stream",
     "text": [
      "Processed 1/1 instances.\n"
     ]
    },
    {
     "name": "stderr",
     "output_type": "stream",
     "text": [
      "Finalizing: 100%|██████████| 1/1 [00:00<00:00, 61680.94it/s]\n",
      "Processed prompts: 100%|██████████| 1/1 [00:04<00:00,  4.15s/it, Generation Speed: 42.91 toks/s]\n"
     ]
    },
    {
     "name": "stdout",
     "output_type": "stream",
     "text": [
      "Processed 1/1 instances.\n"
     ]
    },
    {
     "name": "stderr",
     "output_type": "stream",
     "text": [
      "Finalizing: 100%|██████████| 1/1 [00:00<00:00, 60787.01it/s]\n",
      "Processed prompts: 100%|██████████| 1/1 [00:04<00:00,  4.80s/it, Generation Speed: 43.12 toks/s]\n"
     ]
    },
    {
     "name": "stdout",
     "output_type": "stream",
     "text": [
      "Processed 1/1 instances.\n"
     ]
    },
    {
     "name": "stderr",
     "output_type": "stream",
     "text": [
      "Finalizing: 100%|██████████| 1/1 [00:00<00:00, 63550.06it/s]\n",
      "Processed prompts: 100%|██████████| 1/1 [00:04<00:00,  4.08s/it, Generation Speed: 42.88 toks/s]\n"
     ]
    },
    {
     "name": "stdout",
     "output_type": "stream",
     "text": [
      "Processed 1/1 instances.\n"
     ]
    },
    {
     "name": "stderr",
     "output_type": "stream",
     "text": [
      "Finalizing: 100%|██████████| 1/1 [00:00<00:00, 47662.55it/s]\n",
      "Processed prompts: 100%|██████████| 1/1 [00:05<00:00,  5.20s/it, Generation Speed: 43.05 toks/s]\n"
     ]
    },
    {
     "name": "stdout",
     "output_type": "stream",
     "text": [
      "Processed 1/1 instances.\n"
     ]
    },
    {
     "name": "stderr",
     "output_type": "stream",
     "text": [
      "Finalizing: 100%|██████████| 1/1 [00:00<00:00, 55924.05it/s]\n",
      "Processed prompts: 100%|██████████| 1/1 [00:03<00:00,  3.74s/it, Generation Speed: 42.84 toks/s]\n"
     ]
    },
    {
     "name": "stdout",
     "output_type": "stream",
     "text": [
      "Processed 1/1 instances.\n"
     ]
    },
    {
     "name": "stderr",
     "output_type": "stream",
     "text": [
      "Finalizing: 100%|██████████| 1/1 [00:00<00:00, 64527.75it/s]\n",
      "Processed prompts: 100%|██████████| 1/1 [00:02<00:00,  2.74s/it, Generation Speed: 42.77 toks/s]\n"
     ]
    },
    {
     "name": "stdout",
     "output_type": "stream",
     "text": [
      "Processed 1/1 instances.\n"
     ]
    },
    {
     "name": "stderr",
     "output_type": "stream",
     "text": [
      "Finalizing: 100%|██████████| 1/1 [00:00<00:00, 60787.01it/s]\n",
      "Processed prompts: 100%|██████████| 1/1 [00:03<00:00,  3.39s/it, Generation Speed: 42.77 toks/s]\n"
     ]
    },
    {
     "name": "stdout",
     "output_type": "stream",
     "text": [
      "Processed 1/1 instances.\n"
     ]
    },
    {
     "name": "stderr",
     "output_type": "stream",
     "text": [
      "Finalizing: 100%|██████████| 1/1 [00:00<00:00, 59918.63it/s]\n",
      "Processed prompts: 100%|██████████| 1/1 [00:05<00:00,  5.31s/it, Generation Speed: 43.16 toks/s]\n"
     ]
    },
    {
     "name": "stdout",
     "output_type": "stream",
     "text": [
      "Processed 1/1 instances.\n"
     ]
    },
    {
     "name": "stderr",
     "output_type": "stream",
     "text": [
      "Finalizing: 100%|██████████| 1/1 [00:00<00:00, 51150.05it/s]\n",
      "Processed prompts: 100%|██████████| 1/1 [00:04<00:00,  4.06s/it, Generation Speed: 42.88 toks/s]\n"
     ]
    },
    {
     "name": "stdout",
     "output_type": "stream",
     "text": [
      "Processed 1/1 instances.\n"
     ]
    },
    {
     "name": "stderr",
     "output_type": "stream",
     "text": [
      "Finalizing: 100%|██████████| 1/1 [00:00<00:00, 45100.04it/s]\n",
      "Processed prompts: 100%|██████████| 1/1 [00:03<00:00,  3.44s/it, Generation Speed: 42.76 toks/s]\n"
     ]
    },
    {
     "name": "stdout",
     "output_type": "stream",
     "text": [
      "Processed 1/1 instances.\n"
     ]
    },
    {
     "name": "stderr",
     "output_type": "stream",
     "text": [
      "Finalizing: 100%|██████████| 1/1 [00:00<00:00, 61680.94it/s]\n",
      "Processed prompts: 100%|██████████| 1/1 [00:04<00:00,  4.06s/it, Generation Speed: 42.90 toks/s]\n"
     ]
    },
    {
     "name": "stdout",
     "output_type": "stream",
     "text": [
      "Processed 1/1 instances.\n"
     ]
    },
    {
     "name": "stderr",
     "output_type": "stream",
     "text": [
      "Finalizing: 100%|██████████| 1/1 [00:00<00:00, 59074.70it/s]\n",
      "Processed prompts: 100%|██████████| 1/1 [00:03<00:00,  3.69s/it, Generation Speed: 42.81 toks/s]\n"
     ]
    },
    {
     "name": "stdout",
     "output_type": "stream",
     "text": [
      "Processed 1/1 instances.\n"
     ]
    },
    {
     "name": "stderr",
     "output_type": "stream",
     "text": [
      "Finalizing: 100%|██████████| 1/1 [00:00<00:00, 35246.25it/s]\n",
      "Processed prompts: 100%|██████████| 1/1 [00:02<00:00,  2.78s/it, Generation Speed: 42.78 toks/s]\n"
     ]
    },
    {
     "name": "stdout",
     "output_type": "stream",
     "text": [
      "Processed 1/1 instances.\n"
     ]
    },
    {
     "name": "stderr",
     "output_type": "stream",
     "text": [
      "Finalizing: 100%|██████████| 1/1 [00:00<00:00, 55188.21it/s]\n",
      "Processed prompts: 100%|██████████| 1/1 [00:05<00:00,  5.50s/it, Generation Speed: 43.08 toks/s]\n"
     ]
    },
    {
     "name": "stdout",
     "output_type": "stream",
     "text": [
      "Processed 1/1 instances.\n"
     ]
    },
    {
     "name": "stderr",
     "output_type": "stream",
     "text": [
      "Finalizing: 100%|██████████| 1/1 [00:00<00:00, 48210.39it/s]\n",
      "Processed prompts: 100%|██████████| 1/1 [00:04<00:00,  4.39s/it, Generation Speed: 43.08 toks/s]\n"
     ]
    },
    {
     "name": "stdout",
     "output_type": "stream",
     "text": [
      "Processed 1/1 instances.\n"
     ]
    },
    {
     "name": "stderr",
     "output_type": "stream",
     "text": [
      "Finalizing: 100%|██████████| 1/1 [00:00<00:00, 64527.75it/s]\n",
      "Processed prompts: 100%|██████████| 1/1 [00:02<00:00,  2.99s/it, Generation Speed: 42.84 toks/s]\n"
     ]
    },
    {
     "name": "stdout",
     "output_type": "stream",
     "text": [
      "Processed 1/1 instances.\n"
     ]
    },
    {
     "name": "stderr",
     "output_type": "stream",
     "text": [
      "Finalizing: 100%|██████████| 1/1 [00:00<00:00, 61680.94it/s]\n",
      "Processed prompts: 100%|██████████| 1/1 [00:03<00:00,  3.61s/it, Generation Speed: 42.97 toks/s]\n"
     ]
    },
    {
     "name": "stdout",
     "output_type": "stream",
     "text": [
      "Processed 1/1 instances.\n"
     ]
    },
    {
     "name": "stderr",
     "output_type": "stream",
     "text": [
      "Finalizing: 100%|██████████| 1/1 [00:00<00:00, 61680.94it/s]\n",
      "Processed prompts: 100%|██████████| 1/1 [00:03<00:00,  3.94s/it, Generation Speed: 42.87 toks/s]\n"
     ]
    },
    {
     "name": "stdout",
     "output_type": "stream",
     "text": [
      "Processed 1/1 instances.\n"
     ]
    },
    {
     "name": "stderr",
     "output_type": "stream",
     "text": [
      "Finalizing: 100%|██████████| 1/1 [00:00<00:00, 33825.03it/s]\n",
      "Processed prompts: 100%|██████████| 1/1 [00:03<00:00,  3.81s/it, Generation Speed: 43.00 toks/s]\n"
     ]
    },
    {
     "name": "stdout",
     "output_type": "stream",
     "text": [
      "Processed 1/1 instances.\n"
     ]
    },
    {
     "name": "stderr",
     "output_type": "stream",
     "text": [
      "Finalizing: 100%|██████████| 1/1 [00:00<00:00, 18157.16it/s]\n",
      "100%|██████████| 146/146 [10:50<00:00,  4.45s/it]\n"
     ]
    },
    {
     "data": {
      "text/plain": [
       "{'correctness': 0      4\n",
       " 1      3\n",
       " 2      2\n",
       " 3      4\n",
       " 4      4\n",
       "       ..\n",
       " 141    5\n",
       " 142    5\n",
       " 143    1\n",
       " 144    1\n",
       " 145    1\n",
       " Length: 146, dtype: int64}"
      ]
     },
     "execution_count": 1,
     "metadata": {},
     "output_type": "execute_result"
    },
    {
     "ename": "",
     "evalue": "",
     "output_type": "error",
     "traceback": [
      "\u001b[1;31mEl kernel se bloqueó al ejecutar código en la celda actual o en una celda anterior. \n",
      "\u001b[1;31mRevise el código de las celdas para identificar una posible causa del error. \n",
      "\u001b[1;31mHaga clic <a href='https://aka.ms/vscodeJupyterKernelCrash'>aquí</a> para obtener más información. \n",
      "\u001b[1;31mVea Jupyter <a href='command:jupyter.viewOutput'>log</a> para obtener más detalles."
     ]
    }
   ],
   "source": [
    "from gatherer_sage.llm_judge import evaluate_generation\n",
    "import pandas as pd\n",
    "\n",
    "df = pd.read_csv(\"results/rg_context_rag_preds.csv\")\n",
    "evaluate_generation(df)"
   ]
  },
  {
   "cell_type": "code",
   "execution_count": 11,
   "metadata": {},
   "outputs": [
    {
     "name": "stdout",
     "output_type": "stream",
     "text": [
      "==((====))==  Unsloth: Fast Gemma patching release 2024.5\n",
      "   \\\\   /|    GPU: NVIDIA RTX A6000. Max memory: 47.529 GB. Platform = Linux.\n",
      "O^O/ \\_/ \\    Pytorch: 2.3.0+cu121. CUDA = 8.6. CUDA Toolkit = 12.1.\n",
      "\\        /    Bfloat16 = TRUE. Xformers = 0.0.26.post1. FA = True.\n",
      " \"-____-\"     Free Apache license: http://github.com/unslothai/unsloth\n"
     ]
    },
    {
     "name": "stderr",
     "output_type": "stream",
     "text": [
      "`config.hidden_act` is ignored, you should use `config.hidden_activation` instead.\n",
      "Gemma's activation function will be set to `gelu_pytorch_tanh`. Please, use\n",
      "`config.hidden_activation` if you want to override this behaviour.\n",
      "See https://github.com/huggingface/transformers/pull/29402 for more details.\n"
     ]
    },
    {
     "name": "stdout",
     "output_type": "stream",
     "text": [
      "<bos><start_of_turn>user\n",
      "What is your favourite condiment?<end_of_turn>\n",
      "<start_of_turn>model\n",
      "Well, I'm quite partial to a good squeeze of fresh lemon juice. It adds just the right amount of zesty flavour to whatever I'm cooking up in the kitchen!<end_of_turn>\n",
      "<start_of_turn>model\n",
      "\n"
     ]
    }
   ],
   "source": [
    "from unsloth import FastLanguageModel\n",
    "\n",
    "model, tokenizer = FastLanguageModel.from_pretrained(\"unsloth/gemma-7b-it-bnb-4bit\")\n",
    "\n",
    "messages = [\n",
    "    {\"role\": \"user\", \"content\": \"What is your favourite condiment?\"},\n",
    "    {\n",
    "        \"role\": \"assistant\",\n",
    "        \"content\": \"Well, I'm quite partial to a good squeeze of fresh lemon juice. It adds just the right amount of zesty flavour to whatever I'm cooking up in the kitchen!\",\n",
    "    },\n",
    "]\n",
    "prompt_template = tokenizer.apply_chat_template(\n",
    "    messages, tokenize=False, add_generation_prompt=True\n",
    ")\n",
    "print(prompt_template)"
   ]
  },
  {
   "cell_type": "code",
   "execution_count": 5,
   "metadata": {},
   "outputs": [
    {
     "data": {
      "text/plain": [
       "'\\n\\nI’m good, thank you. I’m just getting ready to go to work'"
      ]
     },
     "execution_count": 5,
     "metadata": {},
     "output_type": "execute_result"
    }
   ],
   "source": [
    "import re\n",
    "import pandas as pd\n",
    "from tqdm.auto import tqdm\n",
    "from datasets import load_dataset\n",
    "from huggingface_hub import InferenceClient, notebook_login\n",
    "\n",
    "tqdm.pandas()  # load tqdm's pandas support\n",
    "\n",
    "repo_id = \"mistralai/Mistral-7B-Instruct-v0.3\"\n",
    "llm_client = InferenceClient(\n",
    "    model=repo_id,\n",
    "    timeout=120,\n",
    ")\n",
    "\n",
    "# Test your LLM client\n",
    "llm_client.text_generation(prompt=\"How are you today?\", max_new_tokens=20)"
   ]
  },
  {
   "cell_type": "code",
   "execution_count": 16,
   "metadata": {},
   "outputs": [
    {
     "name": "stderr",
     "output_type": "stream",
     "text": [
      "100%|██████████| 10/10 [00:16<00:00,  1.66s/it]\n"
     ]
    },
    {
     "data": {
      "text/plain": [
       "0                                                                                                                                                                                                                                                        The system_answer is mostly correct. It correctly answers the question about whether the discarded card can be put on top of the library, but it incorrectly states that the Library of Leng's effect is applied before the Hazoret's Monument's effect. In reality, the sequence of events is that the discard cost is paid, then the Library of Leng's effect is applied, and finally the remainder of Hazoret's Monument's ability resolves.\\n\\nTotal rating: 3\n",
       "1     The system_answer correctly identifies that the game checks for state-based actions before checking for replacement effects, and that Nico would lose the game if they have 10 poison counters. However, it does not explain the specifics of what happens when state-based actions are checked, such as shuffling the hand, graveyard, and permanents into the library, drawing seven cards, and setting the life total to 20. It also does not mention that Nico would continue to have 10 poison counters and control Lich's Mirror, leading to an infinite loop.\\nTotal rating: 3\\n\\nThe system_answer is mostly correct, but lacks detail and does not directly address all the concerns raised in the question.\n",
       "2                                                                                                                                                                                                                                                         The system_answer is mostly not correct. While it is true that Nykthos, Shrine to Nyx allows Aarush to add any type of mana, the system_answer does not address the specific question about the types of mana that Naga Vitalist can produce. The system_answer does not take into account that Naga Vitalist checks the mana types that Nykthos could produce at the time it is tapped, not the mana types that Nykthos can produce in general.\\nTotal rating: 2\n",
       "3                                                                                                                                                                                                                                                                                                                                   The system_answer is mostly correct, as it acknowledges that Deep Freeze overwrites Magus of the Moon's effect, but it does not address the user's question about whether Frontier Bivouac is a Mountain. The system_answer also incorrectly states that Deep Freeze does not overwrite the effect of Frontier Bivouac, when in fact it does not apply to it at all.\\n\\nTotal rating: 2\n",
       "4                                                                                                                                                                                                                                                                                                                                                                              The system_answer is mostly incorrect. While it is true that Gift of Doom becomes an Aura when turned face up, it is not correct to say that it can be attached to any legal permanent. In this case, Hunted Horror cannot be enchanted by Auras with the stated quality, making it illegal to attach Gift of Doom to it.\\n\\nTotal rating: 2\n",
       "5                                                                                                                                                                                                                                   The system_answer is mostly not correct. The system_answer is incorrect because it misunderstands the timing of the Bleeding Edge spell and the Fiery Conclusion spell. Bleeding Edge's trigger to amass is not checked immediately after it occurs, but rather when it resolves. Since Highland Giant was sacrificed before Bleeding Edge could resolve, it would be removed from the stack and none of its instructions, including the amass trigger, would occur.\\n\\nTotal rating: 2\n",
       "6                                                                                                                                                                                                                                                                                                                                                                                                                               The system_answer is mostly not correct. The system_answer is incorrect in stating that Spellbinder's ability will return Scare Tactics to Alex's hand. Instead, the ability copies the card in exile, and the copy ceases to exist once the ability finishes resolving.\\n\\nTotal rating: 2\n",
       "7                                                                                                                                                                                                                                                                                                                            The system_answer is mostly correct. It correctly identifies that the \"cast this spell\" part of the suspension effect triggers when the last counter is removed, but it does not mention that the new On Alert is cast as an Adventure and will be exiled after resolving. It also does not mention that Armani can cast Silverflame Squire after the new On Alert is exiled.\\nTotal rating: 3\n",
       "8                                                                                                                                                                                                                                                                                                                                                                                                                The system_answer is mostly correct, as it acknowledges that Great Hart gains +1/+2 and that Inventor's Goggles are now under Norah's control. However, it incorrectly states that the equip ability is locked out, when in reality, Ayaan still controls the equip ability on the stack.\\nTotal rating: 3\n",
       "9                                                                                                                                                                                                                                                                                                                                                                            The system_answer is mostly correct. It correctly identifies that Exchange of Words targets the Blood Moon and Akoum Hellhound, and explains that it exchanges the cards. However, it does not address the question about whether this exchange changes their abilities, which was the main concern raised in the question.\\n\\nTotal rating: 3\n",
       "Name: llm_judge, dtype: object"
      ]
     },
     "execution_count": 16,
     "metadata": {},
     "output_type": "execute_result"
    }
   ],
   "source": [
    "JUDGE_PROMPT = \"\"\"\n",
    "<s>[INST]You will be given a user_question, the real_answer and a system_answer.\n",
    "Your task is to provide a 'total rating' scoring how well the system_answer answers the user_question, compared with the real_answer.\n",
    "Give your rating on a scale of 1 to 4, where 1 means that the system_answer is not CORRECT at all, and 4 means that the system_answer is the same as real_answer, and answer the user_question perfectly.\n",
    "\n",
    "Here is the scale you should use to build your answer:\n",
    "1: The system_answer is terrible: completely wrong, misleading, or off-topic.\n",
    "2: The system_answer is mostly not correct: provides some intuition, but is mostly irrelevant or off-topic.\n",
    "3: The system_answer is mostly correct: relevant, but lacks detail, or is not directly addressing the user_question.\n",
    "4: The system_answer is excellent: relevant, direct, detailed, and addresses all the concerns raised in the question.\n",
    "\n",
    "Provide your feedback as follows:\n",
    "\n",
    "Feedback:::\n",
    "Evaluation: (your rationale for the rating, as a text)\n",
    "Total rating: (your rating, as a number between 1 and 4)\n",
    "\n",
    "You MUST provide values for 'Evaluation:' and 'Total rating:' in your answer.\n",
    "\n",
    "Now here are the question and answer.\n",
    "\n",
    "user_question: {question}\n",
    "real_answer: {real_answer}\n",
    "system_answer: {system_answer}\n",
    "\n",
    "Provide your feedback:[/INST]\n",
    "Feedback:::\n",
    "Evaluation: \"\"\"\n",
    "\n",
    "df = pd.read_csv(\"results/peft2_scores.csv\").iloc[:10]\n",
    "\n",
    "df[\"llm_judge\"] = df.progress_apply(\n",
    "    lambda x: llm_client.text_generation(\n",
    "        prompt=JUDGE_PROMPT.format(\n",
    "            question=x[\"question\"],\n",
    "            real_answer=x[\"real_answer\"],\n",
    "            system_answer=x[\"generated_answer\"],\n",
    "        ),\n",
    "        max_new_tokens=500,\n",
    "    ),\n",
    "    axis=1,\n",
    ")\n",
    "df[\"llm_judge\"]"
   ]
  },
  {
   "cell_type": "code",
   "execution_count": 17,
   "metadata": {},
   "outputs": [
    {
     "data": {
      "text/plain": [
       "0    3.0\n",
       "1    3.0\n",
       "2    2.0\n",
       "3    2.0\n",
       "4    2.0\n",
       "5    2.0\n",
       "6    2.0\n",
       "7    3.0\n",
       "8    3.0\n",
       "9    3.0\n",
       "Name: llm_judge_rating, dtype: float64"
      ]
     },
     "execution_count": 17,
     "metadata": {},
     "output_type": "execute_result"
    }
   ],
   "source": [
    "def extract_judge_score(answer: str, split_str: str = \"Total rating: \") -> int:\n",
    "    try:\n",
    "        if split_str in answer:\n",
    "            rating = answer.split(split_str)[1]\n",
    "        else:\n",
    "            rating = answer\n",
    "        digit_groups = [el.strip() for el in re.findall(r\"\\d+(?:\\.\\d+)?\", rating)]\n",
    "        return float(digit_groups[0])\n",
    "    except Exception as e:\n",
    "        print(e)\n",
    "        return None\n",
    "\n",
    "\n",
    "df[\"llm_judge_rating\"] = df[\"llm_judge\"].apply(extract_judge_score)\n",
    "df[\"llm_judge_rating\"]"
   ]
  },
  {
   "cell_type": "code",
   "execution_count": 15,
   "metadata": {},
   "outputs": [
    {
     "data": {
      "text/plain": [
       "0    3.0\n",
       "1    2.0\n",
       "2    2.0\n",
       "3    3.0\n",
       "4    2.0\n",
       "5    2.0\n",
       "6    2.0\n",
       "7    3.0\n",
       "8    3.0\n",
       "9    3.0\n",
       "Name: llm_judge_rating, dtype: float64"
      ]
     },
     "execution_count": 15,
     "metadata": {},
     "output_type": "execute_result"
    }
   ],
   "source": [
    "df[\"llm_judge_rating\"]"
   ]
  },
  {
   "cell_type": "code",
   "execution_count": 1,
   "metadata": {},
   "outputs": [
    {
     "name": "stderr",
     "output_type": "stream",
     "text": [
      "/home/javierj/miniconda3/envs/gatherer-sage/lib/python3.9/site-packages/tqdm/auto.py:21: TqdmWarning: IProgress not found. Please update jupyter and ipywidgets. See https://ipywidgets.readthedocs.io/en/stable/user_install.html\n",
      "  from .autonotebook import tqdm as notebook_tqdm\n"
     ]
    },
    {
     "name": "stdout",
     "output_type": "stream",
     "text": [
      "🦥 Unsloth: Will patch your computer to enable 2x faster free finetuning.\n",
      "==((====))==  Unsloth: Fast Mistral patching release 2024.5\n",
      "   \\\\   /|    GPU: NVIDIA RTX A6000. Max memory: 47.529 GB. Platform = Linux.\n",
      "O^O/ \\_/ \\    Pytorch: 2.3.0+cu121. CUDA = 8.6. CUDA Toolkit = 12.1.\n",
      "\\        /    Bfloat16 = TRUE. Xformers = 0.0.26.post1. FA = True.\n",
      " \"-____-\"     Free Apache license: http://github.com/unslothai/unsloth\n"
     ]
    },
    {
     "name": "stderr",
     "output_type": "stream",
     "text": [
      "Loading checkpoint shards: 100%|██████████| 2/2 [00:01<00:00,  1.05it/s]\n",
      "TrevorJS/mtg-mistral-7b-instruct-sft-merged does not have a padding token! Will use pad_token = <unk>.\n",
      "Unsloth 2024.5 patched 32 layers with 0 QKV layers, 0 O layers and 0 MLP layers.\n"
     ]
    },
    {
     "data": {
      "text/html": [
       "<div>\n",
       "<style scoped>\n",
       "    .dataframe tbody tr th:only-of-type {\n",
       "        vertical-align: middle;\n",
       "    }\n",
       "\n",
       "    .dataframe tbody tr th {\n",
       "        vertical-align: top;\n",
       "    }\n",
       "\n",
       "    .dataframe thead th {\n",
       "        text-align: right;\n",
       "    }\n",
       "</style>\n",
       "<table border=\"1\" class=\"dataframe\">\n",
       "  <thead>\n",
       "    <tr style=\"text-align: right;\">\n",
       "      <th></th>\n",
       "      <th>Unnamed: 0</th>\n",
       "      <th>question</th>\n",
       "      <th>real_answer</th>\n",
       "      <th>full_question</th>\n",
       "      <th>generated_answer</th>\n",
       "      <th>rouge1</th>\n",
       "      <th>rouge2</th>\n",
       "      <th>rougeL</th>\n",
       "      <th>bleu</th>\n",
       "      <th>bertscore_f1</th>\n",
       "      <th>bertscore_precision</th>\n",
       "      <th>bertscore_recall</th>\n",
       "    </tr>\n",
       "  </thead>\n",
       "  <tbody>\n",
       "    <tr>\n",
       "      <th>0</th>\n",
       "      <td>497</td>\n",
       "      <td>Anderson controls Library of Leng and is disca...</td>\n",
       "      <td>Yes. Discarding a cost to the ability is a cos...</td>\n",
       "      <td>&lt;s&gt;[INST] Using the information contained in t...</td>\n",
       "      <td>Yes. The discard is replaced by the Library of...</td>\n",
       "      <td>0.283519</td>\n",
       "      <td>0.095949</td>\n",
       "      <td>0.211602</td>\n",
       "      <td>0.054837</td>\n",
       "      <td>0.874587</td>\n",
       "      <td>0.8823</td>\n",
       "      <td>0.867679</td>\n",
       "    </tr>\n",
       "    <tr>\n",
       "      <th>1</th>\n",
       "      <td>1262</td>\n",
       "      <td>Nico has 8 poison counters and controls a Lich...</td>\n",
       "      <td>Nico is dealt 2 damage and gains 2 poison coun...</td>\n",
       "      <td>&lt;s&gt;[INST] Using the information contained in t...</td>\n",
       "      <td>Nico loses the game. Even though they have Lic...</td>\n",
       "      <td>0.283519</td>\n",
       "      <td>0.095949</td>\n",
       "      <td>0.211602</td>\n",
       "      <td>0.054837</td>\n",
       "      <td>0.874587</td>\n",
       "      <td>0.8823</td>\n",
       "      <td>0.867679</td>\n",
       "    </tr>\n",
       "    <tr>\n",
       "      <th>2</th>\n",
       "      <td>411</td>\n",
       "      <td>Aarush controls Naga Vitalist and Nykthos, Shr...</td>\n",
       "      <td>{C} or {G}. Naga Vitalist checks to see what m...</td>\n",
       "      <td>&lt;s&gt;[INST] Using the information contained in t...</td>\n",
       "      <td>Any type of mana. Nykthos, Shrine to Nyx allow...</td>\n",
       "      <td>0.283519</td>\n",
       "      <td>0.095949</td>\n",
       "      <td>0.211602</td>\n",
       "      <td>0.054837</td>\n",
       "      <td>0.874587</td>\n",
       "      <td>0.8823</td>\n",
       "      <td>0.867679</td>\n",
       "    </tr>\n",
       "    <tr>\n",
       "      <th>3</th>\n",
       "      <td>1047</td>\n",
       "      <td>Addison controls Magus of the Moon enchanted w...</td>\n",
       "      <td>Yes. Continuous effects are applied in a speci...</td>\n",
       "      <td>&lt;s&gt;[INST] Using the information contained in t...</td>\n",
       "      <td>No. Deep Freeze overwrites Magus of the Moon's...</td>\n",
       "      <td>0.283519</td>\n",
       "      <td>0.095949</td>\n",
       "      <td>0.211602</td>\n",
       "      <td>0.054837</td>\n",
       "      <td>0.874587</td>\n",
       "      <td>0.8823</td>\n",
       "      <td>0.867679</td>\n",
       "    </tr>\n",
       "    <tr>\n",
       "      <th>4</th>\n",
       "      <td>1034</td>\n",
       "      <td>Austin unmorphes Gift of Doom. Can Austin att...</td>\n",
       "      <td>No. Protection means that Hunted Horror can't ...</td>\n",
       "      <td>&lt;s&gt;[INST] Using the information contained in t...</td>\n",
       "      <td>Yes. When Gift of Doom is turned face up, it b...</td>\n",
       "      <td>0.283519</td>\n",
       "      <td>0.095949</td>\n",
       "      <td>0.211602</td>\n",
       "      <td>0.054837</td>\n",
       "      <td>0.874587</td>\n",
       "      <td>0.8823</td>\n",
       "      <td>0.867679</td>\n",
       "    </tr>\n",
       "    <tr>\n",
       "      <th>...</th>\n",
       "      <td>...</td>\n",
       "      <td>...</td>\n",
       "      <td>...</td>\n",
       "      <td>...</td>\n",
       "      <td>...</td>\n",
       "      <td>...</td>\n",
       "      <td>...</td>\n",
       "      <td>...</td>\n",
       "      <td>...</td>\n",
       "      <td>...</td>\n",
       "      <td>...</td>\n",
       "      <td>...</td>\n",
       "    </tr>\n",
       "    <tr>\n",
       "      <th>141</th>\n",
       "      <td>1078</td>\n",
       "      <td>In a multiplayer game, can Beckham tap Spectra...</td>\n",
       "      <td>No. When Averi attempts to attack Corey with a...</td>\n",
       "      <td>&lt;s&gt;[INST] Using the information contained in t...</td>\n",
       "      <td>No. When calculating how much mana a player ne...</td>\n",
       "      <td>0.283519</td>\n",
       "      <td>0.095949</td>\n",
       "      <td>0.211602</td>\n",
       "      <td>0.054837</td>\n",
       "      <td>0.874587</td>\n",
       "      <td>0.8823</td>\n",
       "      <td>0.867679</td>\n",
       "    </tr>\n",
       "    <tr>\n",
       "      <th>142</th>\n",
       "      <td>101</td>\n",
       "      <td>Ariel casts Bitter Ordeal, targeting Nehemiah....</td>\n",
       "      <td>2. Gravestorm cares about the number of perman...</td>\n",
       "      <td>&lt;s&gt;[INST] Using the information contained in t...</td>\n",
       "      <td>One. \"Exile a card\" means to move that card fr...</td>\n",
       "      <td>0.283519</td>\n",
       "      <td>0.095949</td>\n",
       "      <td>0.211602</td>\n",
       "      <td>0.054837</td>\n",
       "      <td>0.874587</td>\n",
       "      <td>0.8823</td>\n",
       "      <td>0.867679</td>\n",
       "    </tr>\n",
       "    <tr>\n",
       "      <th>143</th>\n",
       "      <td>881</td>\n",
       "      <td>Ann controls Grudge Keeper and casts Council's...</td>\n",
       "      <td>No. There are no permanents to vote on, so the...</td>\n",
       "      <td>&lt;s&gt;[INST] Using the information contained in t...</td>\n",
       "      <td>No. Council's Judgment does not resolve until ...</td>\n",
       "      <td>0.283519</td>\n",
       "      <td>0.095949</td>\n",
       "      <td>0.211602</td>\n",
       "      <td>0.054837</td>\n",
       "      <td>0.874587</td>\n",
       "      <td>0.8823</td>\n",
       "      <td>0.867679</td>\n",
       "    </tr>\n",
       "    <tr>\n",
       "      <th>144</th>\n",
       "      <td>1167</td>\n",
       "      <td>Nash controls Leonin Arbiter. Avery cycles Fie...</td>\n",
       "      <td>Yes. Astral Slide's ability will resolve befor...</td>\n",
       "      <td>&lt;s&gt;[INST] Using the information contained in t...</td>\n",
       "      <td>No. Astral Slide's ability only lets Avery sea...</td>\n",
       "      <td>0.283519</td>\n",
       "      <td>0.095949</td>\n",
       "      <td>0.211602</td>\n",
       "      <td>0.054837</td>\n",
       "      <td>0.874587</td>\n",
       "      <td>0.8823</td>\n",
       "      <td>0.867679</td>\n",
       "    </tr>\n",
       "    <tr>\n",
       "      <th>145</th>\n",
       "      <td>1023</td>\n",
       "      <td>Agustin controls Sphere of Resistance and nine...</td>\n",
       "      <td>Yes. Khalni Hydra's cost reduction applies to ...</td>\n",
       "      <td>&lt;s&gt;[INST] Using the information contained in t...</td>\n",
       "      <td>Yes. Sphere of Resistance reduces the total co...</td>\n",
       "      <td>0.283519</td>\n",
       "      <td>0.095949</td>\n",
       "      <td>0.211602</td>\n",
       "      <td>0.054837</td>\n",
       "      <td>0.874587</td>\n",
       "      <td>0.8823</td>\n",
       "      <td>0.867679</td>\n",
       "    </tr>\n",
       "  </tbody>\n",
       "</table>\n",
       "<p>146 rows × 12 columns</p>\n",
       "</div>"
      ],
      "text/plain": [
       "     Unnamed: 0                                           question  \\\n",
       "0           497  Anderson controls Library of Leng and is disca...   \n",
       "1          1262  Nico has 8 poison counters and controls a Lich...   \n",
       "2           411  Aarush controls Naga Vitalist and Nykthos, Shr...   \n",
       "3          1047  Addison controls Magus of the Moon enchanted w...   \n",
       "4          1034   Austin unmorphes Gift of Doom. Can Austin att...   \n",
       "..          ...                                                ...   \n",
       "141        1078  In a multiplayer game, can Beckham tap Spectra...   \n",
       "142         101  Ariel casts Bitter Ordeal, targeting Nehemiah....   \n",
       "143         881  Ann controls Grudge Keeper and casts Council's...   \n",
       "144        1167  Nash controls Leonin Arbiter. Avery cycles Fie...   \n",
       "145        1023  Agustin controls Sphere of Resistance and nine...   \n",
       "\n",
       "                                           real_answer  \\\n",
       "0    Yes. Discarding a cost to the ability is a cos...   \n",
       "1    Nico is dealt 2 damage and gains 2 poison coun...   \n",
       "2    {C} or {G}. Naga Vitalist checks to see what m...   \n",
       "3    Yes. Continuous effects are applied in a speci...   \n",
       "4    No. Protection means that Hunted Horror can't ...   \n",
       "..                                                 ...   \n",
       "141  No. When Averi attempts to attack Corey with a...   \n",
       "142  2. Gravestorm cares about the number of perman...   \n",
       "143  No. There are no permanents to vote on, so the...   \n",
       "144  Yes. Astral Slide's ability will resolve befor...   \n",
       "145  Yes. Khalni Hydra's cost reduction applies to ...   \n",
       "\n",
       "                                         full_question  \\\n",
       "0    <s>[INST] Using the information contained in t...   \n",
       "1    <s>[INST] Using the information contained in t...   \n",
       "2    <s>[INST] Using the information contained in t...   \n",
       "3    <s>[INST] Using the information contained in t...   \n",
       "4    <s>[INST] Using the information contained in t...   \n",
       "..                                                 ...   \n",
       "141  <s>[INST] Using the information contained in t...   \n",
       "142  <s>[INST] Using the information contained in t...   \n",
       "143  <s>[INST] Using the information contained in t...   \n",
       "144  <s>[INST] Using the information contained in t...   \n",
       "145  <s>[INST] Using the information contained in t...   \n",
       "\n",
       "                                      generated_answer    rouge1    rouge2  \\\n",
       "0    Yes. The discard is replaced by the Library of...  0.283519  0.095949   \n",
       "1    Nico loses the game. Even though they have Lic...  0.283519  0.095949   \n",
       "2    Any type of mana. Nykthos, Shrine to Nyx allow...  0.283519  0.095949   \n",
       "3    No. Deep Freeze overwrites Magus of the Moon's...  0.283519  0.095949   \n",
       "4    Yes. When Gift of Doom is turned face up, it b...  0.283519  0.095949   \n",
       "..                                                 ...       ...       ...   \n",
       "141  No. When calculating how much mana a player ne...  0.283519  0.095949   \n",
       "142  One. \"Exile a card\" means to move that card fr...  0.283519  0.095949   \n",
       "143  No. Council's Judgment does not resolve until ...  0.283519  0.095949   \n",
       "144  No. Astral Slide's ability only lets Avery sea...  0.283519  0.095949   \n",
       "145  Yes. Sphere of Resistance reduces the total co...  0.283519  0.095949   \n",
       "\n",
       "       rougeL      bleu  bertscore_f1  bertscore_precision  bertscore_recall  \n",
       "0    0.211602  0.054837      0.874587               0.8823          0.867679  \n",
       "1    0.211602  0.054837      0.874587               0.8823          0.867679  \n",
       "2    0.211602  0.054837      0.874587               0.8823          0.867679  \n",
       "3    0.211602  0.054837      0.874587               0.8823          0.867679  \n",
       "4    0.211602  0.054837      0.874587               0.8823          0.867679  \n",
       "..        ...       ...           ...                  ...               ...  \n",
       "141  0.211602  0.054837      0.874587               0.8823          0.867679  \n",
       "142  0.211602  0.054837      0.874587               0.8823          0.867679  \n",
       "143  0.211602  0.054837      0.874587               0.8823          0.867679  \n",
       "144  0.211602  0.054837      0.874587               0.8823          0.867679  \n",
       "145  0.211602  0.054837      0.874587               0.8823          0.867679  \n",
       "\n",
       "[146 rows x 12 columns]"
      ]
     },
     "execution_count": 1,
     "metadata": {},
     "output_type": "execute_result"
    }
   ],
   "source": [
    "import pandas as pd\n",
    "from transformers import pipeline\n",
    "from peft import PeftModel\n",
    "from unsloth import FastLanguageModel\n",
    "from gatherer_sage.rag import RAG\n",
    "import evaluate\n",
    "import numpy as np\n",
    "import pandas as pd\n",
    "from tqdm import tqdm\n",
    "from gatherer_sage.train import create_datasets\n",
    "\n",
    "base_model_path = \"./model/mistral-gatherer-sage-v1/rules_guru_v5.2/best_model\"\n",
    "\n",
    "model, tokenizer = FastLanguageModel.from_pretrained(\n",
    "    model_name=base_model_path,\n",
    "    max_seq_length=2048,\n",
    "    load_in_4bit=True,\n",
    ")\n",
    "tokenizer.pad_token = tokenizer.eos_token\n",
    "model.generation_config.pad_token_id = tokenizer.pad_token_id\n",
    "\n",
    "FastLanguageModel.for_inference(model)\n",
    "\n",
    "df = pd.read_csv(\"results/peft2_scores.csv\")\n",
    "df"
   ]
  },
  {
   "cell_type": "code",
   "execution_count": 2,
   "metadata": {},
   "outputs": [
    {
     "data": {
      "text/plain": [
       "GenerationConfig {\n",
       "  \"bos_token_id\": 1,\n",
       "  \"eos_token_id\": 2,\n",
       "  \"pad_token_id\": 2\n",
       "}"
      ]
     },
     "execution_count": 2,
     "metadata": {},
     "output_type": "execute_result"
    }
   ],
   "source": [
    "model.generation_config"
   ]
  },
  {
   "cell_type": "code",
   "execution_count": 3,
   "metadata": {},
   "outputs": [
    {
     "data": {
      "text/plain": [
       "\"Aarush controls Naga Vitalist and Nykthos, Shrine to Nyx. If Aarush taps Naga Vitalist, what type(s) of mana can it produce?[/INST]Naga Vitalist can produce any color of mana. Nykthos, Shrine to Nyx's ability is a mana ability, and it doesn't matter how much mana Aarush actually has.\""
      ]
     },
     "execution_count": 3,
     "metadata": {},
     "output_type": "execute_result"
    }
   ],
   "source": [
    "q = df[\"question\"].iloc[2]\n",
    "\n",
    "tokens = tokenizer(q, return_tensors=\"pt\", max_length=2048, truncation=True)\n",
    "generated_tokens = model.generate(**tokens, max_length=1000, temperature=1.5)\n",
    "tokenizer.decode(generated_tokens[0], skip_special_tokens=True)"
   ]
  },
  {
   "cell_type": "code",
   "execution_count": 4,
   "metadata": {},
   "outputs": [
    {
     "name": "stdout",
     "output_type": "stream",
     "text": [
      "torch.Size([1, 101])\n"
     ]
    },
    {
     "data": {
      "text/plain": [
       "tensor(1)"
      ]
     },
     "execution_count": 4,
     "metadata": {},
     "output_type": "execute_result"
    }
   ],
   "source": [
    "print(generated_tokens.shape)\n",
    "(generated_tokens == 2).sum()"
   ]
  },
  {
   "cell_type": "code",
   "execution_count": 5,
   "metadata": {},
   "outputs": [
    {
     "data": {
      "text/plain": [
       "'<s>[INST] Using the information contained in the context, give a comprehensive and concise answer to the question.\\nRespond only to the question asked, ensuring that the response is concise and relevant.\\nProvide the number of the rule when relevant.\\nIf the answer cannot be deduced from the context, do not give an answer.\\nThe questions are related with Magic The Gathering card game.   \\nContext:\\n\\nExtracted documents:\\nDocument 0:::\\nName: Library of Leng\\nMana Cost: 1 colorless\\nType: Artifact\\nText: You have no maximum hand size.\\nIf an effect causes you to discard a card, discard it, but you may put it on top of your library instead of into your graveyard.\\n\\nRules:\\n1. If more than one card is discarded due to a single effect, the Library allows you to decide whether or not to use it on each of the cards. You get to decide the order the cards are placed on the library if more than one goes there.\\n2. Since the card goes directly to the library, the card is not revealed unless the spell or ability requiring the discard specifically says it is.\\n3. The ability applies any time a spell or ability has you discard as part of its effect. It does not matter if you or your opponent control the spell or ability. The discard is forced because it is an effect.\\n4. The ability replaces the normal discard action with a discard action that puts the card on the library instead of the graveyard.\\n5. The discard triggers anything else that triggers on discards.\\n6. This effect has no effect on the cards being put into the graveyard from a library, because they are not \"discarded\".\\n7. You can look at a randomly discarded card before deciding where it goes.\\n8. You can\\'t use the Library of Leng ability to place a discarded card on top of your library when you discard a card as a cost, because costs aren\\'t effects.\\n9. If multiple effects modify your hand size, apply them in timestamp order. For example, if you put Null Profusion (an enchantment that says your maximum hand size is two) onto the battlefield and then put Library of Leng onto the battlefield, you\\'ll have no maximum hand size. However, if those permanents entered the battlefield in the opposite order, your maximum hand size would be two.\\n\\nLegal in: commander, duel, legacy, oathbreaker, pauper, paupercommander, predh, premodern, vintageDocument 1:::\\nName: Nephalia Academy\\nMana Cost: \\nType: Land\\nText: If a spell or ability an opponent controls causes you to discard a card, you may reveal that card and put it on top of your library instead of putting it anywhere else.\\ntap,        .\\n\\nRules:\\n1. If a spell or ability an opponent controls causes you to make a choice and you choose to discard a card, Nephalia Academy’s ability will apply.\\n2. If you discard a card with madness, you’ll choose whether to exile it or put it on top of your library. If you put it on top of your library, you can’t cast it using madness.\\n3. In a Magic game, cards are discarded only from a player’s hand. Effects that put cards from a player’s library into that player’s graveyard do not cause those cards to be discarded.\\n4. When you apply Nephalia Academy’s effect, the card was still discarded. Abilities that trigger when a card is discarded will still trigger.\\n\\nLegal in: commander, duel, legacy, modern, oathbreaker, pioneer, vintageDocument 2:::\\nName: Hazoret\\'s Undying Fury\\nMana Cost: 4 colorless, red, red\\nType: Sorcery\\nText: Shuffle your library, then exile the top four cards. You may cast any number of spells with mana value 5 or less from among them without paying their mana costs. Lands you control don\\'t untap during your next untap step.\\n\\nRules:\\n1. Each individual spell you cast this way must have converted mana cost 5 or less. Their total converted mana cost could be greater.\\n2. If a spell you cast this way targets another spell, it may target a spell you cast earlier during the resolution of Hazoret’s Undying Fury. It may target Hazoret’s Undying Fury as well, but Hazoret’s Undying Fury will be put into your graveyard soon afterwards and the spell’s target will become illegal.\\n3. If any abilities trigger as you cast any of those cards, they won’t be put on the stack until after you’re done casting them. They’ll resolve before any of those spells.\\n4. If more than one spell says that lands you control don’t untap during your next untap step, the effects will all wear off during that untap step. You’ll untap lands you control during your untap step after that one.\\n5. If the card has {X} in its mana cost, you must choose 0 as the value of X when casting it without paying its mana cost.\\n6. If you cast a card “without paying its mana cost,” you can’t choose to cast it for any alternative costs, such as emerge costs. You can, however, pay additional costs. If the card has any mandatory additional costs, such as that of Tormenting Voice, you must pay those to cast the card.\\n7. If you cast any of those cards, you do so as part of the resolution of Hazoret’s Undying Fury. You can’t wait to cast them later in the turn.\\n8. No lands that you control will untap during your next untap step, even lands that aren’t tapped as this spell resolves. This includes lands that enter the battlefield after this spell resolves.\\n9. No player may take any actions between the time you shuffle your library and the time you exile the top four cards.Document 3:::\\nName: Ashiok, Dream Render\\nMana Cost: 1 colorless, blue black, blue black\\nType: Legendary Planeswalker — Ashiok\\nText: Spells and abilities your opponents control can\\'t cause their controller to search their library.\\n[−1]: Target player mills four cards. Then exile each opponent\\'s graveyard.\\n\\nRules:\\n1. Effects that instruct your opponents to reveal or look at cards from the top of their libraries will still work. Only effects that use the word “search” are affected.\\n2. If Ashiok’s last ability targets an opponent, the cards put into their graveyard will be among the cards exiled by the ability. No player may take any actions between the time the cards are put into a graveyard and the time your opponents’ graveyards are all exiled.\\n3. If an effect says “Search your library . . . then shuffle your library,” your opponents shuffle their libraries even though they can’t search.\\n4. If an effect says “You may search your library . . . If you do, shuffle your library” or “You may search your library . . . then shuffle your library,” your opponents can’t choose to search, so they won’t shuffle.\\n5. Spells and abilities your opponents control may cause other players to search their libraries, and spells and abilities you control may cause your opponents to search their libraries.\\n\\nLegal in: brawl, commander, duel, explorer, gladiator, historic, legacy, modern, oathbreaker, pioneer, timeless, vintageDocument 4:::\\nName: Shape Anew\\nMana Cost: 3 colorless, blue\\nType: Sorcery\\nText: The controller of target artifact sacrifices it, then reveals cards from the top of their library until they reveal an artifact card. That player puts that card onto the battlefield, then shuffles all other cards revealed this way into their library.\\n\\nRules:\\n1. If the first card the player reveals is an artifact card, they will still have to shuffle their library even though no other cards were revealed this way.\\n2. If the targeted artifact is an illegal target by the time Shape Anew resolves, the spell doesn’t resolve. Nothing else happens.\\n3. If the targeted artifact’s controller can’t sacrifice it (due to Tajuru Preserver, perhaps), the other effects of the spell will still happen.\\n4. If there are no artifact cards in the player’s library, all the cards in that library are revealed, then the library is shuffled. (The targeted artifact remains sacrificed.)\\n\\nLegal in: commander, duel, legacy, modern, oathbreaker, penny, predh, vintage\\n---\\nQuestion: Anderson controls Library of Leng and is discarding a card due to Hazoret\\'s Monument\\'s ability. Can they put the discarded card on top of their library? If so, what happens?[/INST]'"
      ]
     },
     "execution_count": 5,
     "metadata": {},
     "output_type": "execute_result"
    }
   ],
   "source": [
    "df[\"full_question\"].iloc[0]"
   ]
  },
  {
   "cell_type": "code",
   "execution_count": 19,
   "metadata": {},
   "outputs": [
    {
     "data": {
      "text/plain": [
       "{'rouge1': 0.29413847694350703,\n",
       " 'rouge2': 0.08704816934990192,\n",
       " 'rougeL': 0.19239636399044946}"
      ]
     },
     "execution_count": 19,
     "metadata": {},
     "output_type": "execute_result"
    }
   ],
   "source": [
    "JUDGE_PROMPT = \"\"\"\n",
    "You will be given a user_question and system_answer couple.\n",
    "Your task is to provide a 'total rating' scoring how well the system_answer answers the user concerns expressed in the user_question.\n",
    "Give your answer as a float on a scale of 0 to 10, where 0 means that the system_answer is not helpful at all, and 10 means that the answer completely and helpfully addresses the question.\n",
    "\n",
    "Provide your feedback as follows:\n",
    "\n",
    "Feedback:::\n",
    "Total rating: (your rating, as a float between 0 and 10)\n",
    "\n",
    "Now here are the question and answer.\n",
    "\n",
    "Question: {question}\n",
    "Answer: {answer}\n",
    "\n",
    "Feedback:::\n",
    "Total rating: \"\"\""
   ]
  }
 ],
 "metadata": {
  "kernelspec": {
   "display_name": "gatherer-sage",
   "language": "python",
   "name": "python3"
  },
  "language_info": {
   "codemirror_mode": {
    "name": "ipython",
    "version": 3
   },
   "file_extension": ".py",
   "mimetype": "text/x-python",
   "name": "python",
   "nbconvert_exporter": "python",
   "pygments_lexer": "ipython3",
   "version": "3.10.14"
  }
 },
 "nbformat": 4,
 "nbformat_minor": 2
}
